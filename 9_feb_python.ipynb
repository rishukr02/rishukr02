{
  "nbformat": 4,
  "nbformat_minor": 0,
  "metadata": {
    "colab": {
      "provenance": [],
      "authorship_tag": "ABX9TyMNluWaHtEuaRNw1aU37hCr",
      "include_colab_link": true
    },
    "kernelspec": {
      "name": "python3",
      "display_name": "Python 3"
    },
    "language_info": {
      "name": "python"
    }
  },
  "cells": [
    {
      "cell_type": "markdown",
      "metadata": {
        "id": "view-in-github",
        "colab_type": "text"
      },
      "source": [
        "<a href=\"https://colab.research.google.com/github/rishukr02/rishukr02/blob/main/9_feb_python.ipynb\" target=\"_parent\"><img src=\"https://colab.research.google.com/assets/colab-badge.svg\" alt=\"Open In Colab\"/></a>"
      ]
    },
    {
      "cell_type": "code",
      "execution_count": null,
      "metadata": {
        "colab": {
          "base_uri": "https://localhost:8080/"
        },
        "id": "Ht4UFuZX0dBF",
        "outputId": "a624ab0c-a582-45ac-9d4d-674fcc6a7b88"
      },
      "outputs": [
        {
          "output_type": "stream",
          "name": "stdout",
          "text": [
            "5\n",
            "4\n",
            "3\n",
            "2\n",
            "1\n",
            "out from loop\n"
          ]
        }
      ],
      "source": [
        "count = 5\n",
        "while count >0:\n",
        "  print(count)\n",
        "  count = count -1\n",
        "print (\"out from loop\")"
      ]
    },
    {
      "cell_type": "code",
      "source": [
        "count = 5\n",
        "while count >0:\n",
        "  print (count)\n",
        "  count =count-1\n",
        "  if count ==3:\n",
        "    break\n",
        "\n",
        "else:\n",
        "    print(\"else block\")\n",
        "print(\"out from loop\")"
      ],
      "metadata": {
        "colab": {
          "base_uri": "https://localhost:8080/"
        },
        "id": "5yuzxFnC4E9s",
        "outputId": "8338d023-034a-4c40-fcb3-43e2922d1988"
      },
      "execution_count": null,
      "outputs": [
        {
          "output_type": "stream",
          "name": "stdout",
          "text": [
            "5\n",
            "4\n",
            "out from loop\n"
          ]
        }
      ]
    },
    {
      "cell_type": "code",
      "source": [
        "list =[\"hi\",\"hello\",\"rishi\"]\n",
        "name =[\"virat\",\"dhoni\",\"rohit\"]\n",
        "for item in list:\n",
        "  for i in name:\n",
        "    print (item,i)\n",
        "    if item ==\"hello\" and i ==\"dhoni\":\n",
        "      break\n",
        "  print(\"out from inner loop\")\n",
        "print(\"out from outer loop\")"
      ],
      "metadata": {
        "colab": {
          "base_uri": "https://localhost:8080/"
        },
        "id": "FtMrFnb35DF8",
        "outputId": "297ba4a8-5494-4986-883c-14ccbd940794"
      },
      "execution_count": null,
      "outputs": [
        {
          "output_type": "stream",
          "name": "stdout",
          "text": [
            "hi virat\n",
            "hi dhoni\n",
            "hi rohit\n",
            "out from inner loop\n",
            "hello virat\n",
            "hello dhoni\n",
            "out from inner loop\n",
            "rishi virat\n",
            "rishi dhoni\n",
            "rishi rohit\n",
            "out from inner loop\n",
            "out from outer loop\n"
          ]
        }
      ]
    },
    {
      "cell_type": "code",
      "source": [
        "count1 =0\n",
        "while count1<10:\n",
        "  print(count1)\n",
        "  count1+=1\n",
        "  if count1==7:\n",
        "    continue\n",
        "  print(\" hi \")\n",
        "print(\"done\")"
      ],
      "metadata": {
        "colab": {
          "base_uri": "https://localhost:8080/"
        },
        "id": "8zLKuQDW67ju",
        "outputId": "e6bb25c5-3f8e-414c-8f26-fd1d13a1c6a2"
      },
      "execution_count": null,
      "outputs": [
        {
          "output_type": "stream",
          "name": "stdout",
          "text": [
            "0\n",
            " hi \n",
            "1\n",
            " hi \n",
            "2\n",
            " hi \n",
            "3\n",
            " hi \n",
            "4\n",
            " hi \n",
            "5\n",
            " hi \n",
            "6\n",
            "7\n",
            " hi \n",
            "8\n",
            " hi \n",
            "9\n",
            " hi \n",
            "done\n"
          ]
        }
      ]
    },
    {
      "cell_type": "code",
      "source": [
        "count1 =0\n",
        "while count1<10:\n",
        "  print(count1)\n",
        "  count1+=1\n",
        "  if count1==7:\n",
        "    pass\n",
        "  print(\" hi \")\n",
        "print(\"done\")"
      ],
      "metadata": {
        "colab": {
          "base_uri": "https://localhost:8080/"
        },
        "id": "nmKgM-VE8NpG",
        "outputId": "b33728e1-4d78-48f8-c62c-0f443bfcd4b1"
      },
      "execution_count": null,
      "outputs": [
        {
          "output_type": "stream",
          "name": "stdout",
          "text": [
            "0\n",
            " hi \n",
            "1\n",
            " hi \n",
            "2\n",
            " hi \n",
            "3\n",
            " hi \n",
            "4\n",
            " hi \n",
            "5\n",
            " hi \n",
            "6\n",
            " hi \n",
            "7\n",
            " hi \n",
            "8\n",
            " hi \n",
            "9\n",
            " hi \n",
            "done\n"
          ]
        }
      ]
    },
    {
      "cell_type": "code",
      "source": [
        "for letter in \"hello\":\n",
        "  print(\"Pass:\",letter)\n",
        "print(\"Done\")"
      ],
      "metadata": {
        "colab": {
          "base_uri": "https://localhost:8080/"
        },
        "id": "w3IcYRKw8bKd",
        "outputId": "ba6fa3fa-efd2-4f18-a8f9-0549d6d673a8"
      },
      "execution_count": null,
      "outputs": [
        {
          "output_type": "stream",
          "name": "stdout",
          "text": [
            "Pass: h\n",
            "Pass: e\n",
            "Pass: l\n",
            "Pass: l\n",
            "Pass: o\n",
            "Done\n"
          ]
        }
      ]
    },
    {
      "cell_type": "code",
      "source": [
        "total = 0\n",
        "number = int(input(\"enter the number(o to quit)\"))\n",
        "while number !=0:\n",
        "  total = total+number\n",
        "  number=int(input(\"enter the number(0 to quit)\"))\n",
        "print(total)"
      ],
      "metadata": {
        "colab": {
          "base_uri": "https://localhost:8080/"
        },
        "id": "GIRx_Jm2wnsJ",
        "outputId": "e9aa35fd-c3bc-4462-c4e6-44ffbf843007"
      },
      "execution_count": null,
      "outputs": [
        {
          "output_type": "stream",
          "name": "stdout",
          "text": [
            "enter the number(o to quit)0\n",
            "0\n"
          ]
        }
      ]
    },
    {
      "cell_type": "code",
      "source": [
        "number = int(input(\"enter the number(-1 to quit)\"))\n",
        "while number !=-1:\n",
        "  print(number)\n",
        "  number=int(input(\"enter the number(-1 to quit)\"))\n",
        "else:\n",
        "  print(\"else block is executed\")\n",
        "print(\"out \")"
      ],
      "metadata": {
        "colab": {
          "base_uri": "https://localhost:8080/"
        },
        "id": "sxag6YGywsuv",
        "outputId": "037d8303-e14b-4c5f-fd2b-a63bc3123de6"
      },
      "execution_count": null,
      "outputs": [
        {
          "output_type": "stream",
          "name": "stdout",
          "text": [
            "enter the number(-1 to quit)1\n",
            "1\n",
            "enter the number(-1 to quit)-1\n",
            "else block is executed\n",
            "out \n"
          ]
        }
      ]
    },
    {
      "cell_type": "code",
      "source": [
        "import random\n",
        "List= [\"Apple\",\"Banana\",\"Orange\",\"Mango\"]\n",
        "choose_word=random.choice(List)\n",
        "lives = 6\n",
        "print(choose_word)\n",
        "display=[]\n",
        "for letter in choose_word:\n",
        "  display+='_'\n",
        "print(display)"
      ],
      "metadata": {
        "colab": {
          "base_uri": "https://localhost:8080/"
        },
        "id": "YD9fIYEqwx6A",
        "outputId": "3b397d21-e05f-4057-933b-8f02583b1163"
      },
      "execution_count": null,
      "outputs": [
        {
          "output_type": "stream",
          "name": "stdout",
          "text": [
            "Banana\n",
            "['_', '_', '_', '_', '_', '_']\n"
          ]
        }
      ]
    },
    {
      "cell_type": "code",
      "source": [
        "\n"
      ],
      "metadata": {
        "id": "U33p_pbr80g4"
      },
      "execution_count": null,
      "outputs": []
    }
  ]
}