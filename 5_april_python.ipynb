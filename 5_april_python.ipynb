{
  "nbformat": 4,
  "nbformat_minor": 0,
  "metadata": {
    "colab": {
      "provenance": [],
      "authorship_tag": "ABX9TyMiMZoPi82K7osCSmHioCG9",
      "include_colab_link": true
    },
    "kernelspec": {
      "name": "python3",
      "display_name": "Python 3"
    },
    "language_info": {
      "name": "python"
    }
  },
  "cells": [
    {
      "cell_type": "markdown",
      "metadata": {
        "id": "view-in-github",
        "colab_type": "text"
      },
      "source": [
        "<a href=\"https://colab.research.google.com/github/rishukr02/rishukr02/blob/main/5_april_python.ipynb\" target=\"_parent\"><img src=\"https://colab.research.google.com/assets/colab-badge.svg\" alt=\"Open In Colab\"/></a>"
      ]
    },
    {
      "cell_type": "code",
      "execution_count": null,
      "metadata": {
        "id": "gh49hsavNZrB"
      },
      "outputs": [],
      "source": [
        "#Abstract\n",
        "from abc import ABC, abstractmethod\n",
        "\n",
        "class Student(ABC):\n",
        "    @abstractmethod\n",
        "    def catch(self):\n",
        "        pass\n"
      ]
    },
    {
      "cell_type": "code",
      "source": [
        "from abc import ABC, abstractmethod\n",
        "\n",
        "class Computer(ABC):\n",
        "    @abstractmethod\n",
        "    def process(self):\n",
        "        pass\n",
        "\n",
        "class Laptop(Computer):\n",
        "    def process(self):\n",
        "        print(\"running\")\n",
        "\n",
        "com1 = Laptop()\n",
        "com1.process()\n",
        "\n",
        "\n"
      ],
      "metadata": {
        "colab": {
          "base_uri": "https://localhost:8080/"
        },
        "id": "fnJ3Qc54SH9K",
        "outputId": "72eb995e-4ff6-4740-b7b6-4eb93de13dc9"
      },
      "execution_count": null,
      "outputs": [
        {
          "output_type": "stream",
          "name": "stdout",
          "text": [
            "running\n"
          ]
        }
      ]
    },
    {
      "cell_type": "code",
      "source": [
        "from abc import ABC, abstractmethod\n",
        "\n",
        "class Car(ABC):\n",
        "    def show(self):\n",
        "        print(\"Every car has four wheels\")\n",
        "\n",
        "    @abstractmethod\n",
        "    def speed(self):\n",
        "        pass\n",
        "\n",
        "class Maruti(Car):\n",
        "    def speed(self):\n",
        "        print(\"Maximum speed 100 km/hr\")\n",
        "\n",
        "class Suzuki(Car):\n",
        "    def speed(self):\n",
        "        print(\"Speed is 70 km/hr\")\n"
      ],
      "metadata": {
        "id": "HlygmQBqVa2x"
      },
      "execution_count": null,
      "outputs": []
    },
    {
      "cell_type": "code",
      "source": [
        "def Decor(printer):\n",
        "    def inner():\n",
        "        printer()\n",
        "        print(\"I am printing\")\n",
        "    return inner\n",
        "@Decor\n",
        "def printer():\n",
        "    print(\"I am Printing\")\n",
        "    print(\"I am Printing\")\n",
        "\n",
        "printer()"
      ],
      "metadata": {
        "colab": {
          "base_uri": "https://localhost:8080/"
        },
        "id": "LHuzCDTlWcqj",
        "outputId": "d07f2511-c7b7-432a-e43b-87c7300cc683"
      },
      "execution_count": null,
      "outputs": [
        {
          "output_type": "stream",
          "name": "stdout",
          "text": [
            "I am Printing\n",
            "I am Printing\n",
            "I am printing\n"
          ]
        }
      ]
    },
    {
      "cell_type": "code",
      "source": [],
      "metadata": {
        "id": "50GRH0jmcoUj"
      },
      "execution_count": null,
      "outputs": []
    }
  ]
}