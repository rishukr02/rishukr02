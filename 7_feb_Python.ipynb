{
  "nbformat": 4,
  "nbformat_minor": 0,
  "metadata": {
    "colab": {
      "provenance": [],
      "authorship_tag": "ABX9TyMnFMVMGWqVkmMKofLKjD2/",
      "include_colab_link": true
    },
    "kernelspec": {
      "name": "python3",
      "display_name": "Python 3"
    },
    "language_info": {
      "name": "python"
    }
  },
  "cells": [
    {
      "cell_type": "markdown",
      "metadata": {
        "id": "view-in-github",
        "colab_type": "text"
      },
      "source": [
        "<a href=\"https://colab.research.google.com/github/rishukr02/rishukr02/blob/main/7_feb_Python.ipynb\" target=\"_parent\"><img src=\"https://colab.research.google.com/assets/colab-badge.svg\" alt=\"Open In Colab\"/></a>"
      ]
    },
    {
      "cell_type": "code",
      "source": [
        "numbers = input (\"enter the numbers seprated by space\")\n",
        "list1 = numbers.split(\" \")\n",
        "print(list1)\n",
        "count = 0\n",
        "for i in list1:\n",
        "  count +=1\n",
        "print(count)\n",
        "for i in range (count):\n",
        " list1[i]= int(list1[i])\n",
        "print(list1)\n",
        "maximum = list1[0]\n",
        "for i in list1:\n",
        "  if i > maximum:\n",
        "    maximum = i\n",
        "print(f\"the maximum number is (maximum)\")"
      ],
      "metadata": {
        "colab": {
          "base_uri": "https://localhost:8080/"
        },
        "id": "XwWqVDl6HJlq",
        "outputId": "6433abd7-5b12-478e-9af1-b19ea2e5f327"
      },
      "execution_count": null,
      "outputs": [
        {
          "output_type": "stream",
          "name": "stdout",
          "text": [
            "enter the numbers seprated by space123 345 678 890\n",
            "['123', '345', '678', '890']\n",
            "4\n",
            "[123, 345, 678, 890]\n",
            "the maximum number is (maximum)\n"
          ]
        }
      ]
    },
    {
      "cell_type": "code",
      "source": [
        "c = range (2,25,-3)\n",
        "for i in c:\n",
        "  print (i)\n"
      ],
      "metadata": {
        "id": "uffVQ7JpK2Jc"
      },
      "execution_count": null,
      "outputs": []
    },
    {
      "cell_type": "code",
      "source": [
        "for i in range (1,2,-3):\n",
        "  print (i)"
      ],
      "metadata": {
        "id": "UWh1dK1UMf2T"
      },
      "execution_count": null,
      "outputs": []
    },
    {
      "cell_type": "code",
      "source": [
        "sum = 0\n",
        "for i in range (0, 101 ,203):\n",
        "  sum = sum +i\n",
        "  print(sum)"
      ],
      "metadata": {
        "id": "CnEVUp2eMvpg"
      },
      "execution_count": null,
      "outputs": []
    },
    {
      "cell_type": "code",
      "source": [
        "for i in range(1, 101, 1):\n",
        "    if i % 3 == 0 and i % 5 == 0:\n",
        "        print(\"FizzBuzz\")\n",
        "    elif i % 3 == 0:\n",
        "        print(\"buzz\")\n",
        "    elif i % 5 == 0:\n",
        "        print(\"fizz\")\n",
        "    else:\n",
        "        print(i)"
      ],
      "metadata": {
        "colab": {
          "base_uri": "https://localhost:8080/"
        },
        "id": "AdkOAvg-NHbL",
        "outputId": "0f5111b4-ab82-4c99-e9a5-025d4b6e74c7"
      },
      "execution_count": null,
      "outputs": [
        {
          "output_type": "stream",
          "name": "stdout",
          "text": [
            "1\n",
            "2\n",
            "buzz\n",
            "4\n",
            "fizz\n",
            "buzz\n",
            "7\n",
            "8\n",
            "buzz\n",
            "fizz\n",
            "11\n",
            "buzz\n",
            "13\n",
            "14\n",
            "FizzBuzz\n",
            "16\n",
            "17\n",
            "buzz\n",
            "19\n",
            "fizz\n",
            "buzz\n",
            "22\n",
            "23\n",
            "buzz\n",
            "fizz\n",
            "26\n",
            "buzz\n",
            "28\n",
            "29\n",
            "FizzBuzz\n",
            "31\n",
            "32\n",
            "buzz\n",
            "34\n",
            "fizz\n",
            "buzz\n",
            "37\n",
            "38\n",
            "buzz\n",
            "fizz\n",
            "41\n",
            "buzz\n",
            "43\n",
            "44\n",
            "FizzBuzz\n",
            "46\n",
            "47\n",
            "buzz\n",
            "49\n",
            "fizz\n",
            "buzz\n",
            "52\n",
            "53\n",
            "buzz\n",
            "fizz\n",
            "56\n",
            "buzz\n",
            "58\n",
            "59\n",
            "FizzBuzz\n",
            "61\n",
            "62\n",
            "buzz\n",
            "64\n",
            "fizz\n",
            "buzz\n",
            "67\n",
            "68\n",
            "buzz\n",
            "fizz\n",
            "71\n",
            "buzz\n",
            "73\n",
            "74\n",
            "FizzBuzz\n",
            "76\n",
            "77\n",
            "buzz\n",
            "79\n",
            "fizz\n",
            "buzz\n",
            "82\n",
            "83\n",
            "buzz\n",
            "fizz\n",
            "86\n",
            "buzz\n",
            "88\n",
            "89\n",
            "FizzBuzz\n",
            "91\n",
            "92\n",
            "buzz\n",
            "94\n",
            "fizz\n",
            "buzz\n",
            "97\n",
            "98\n",
            "buzz\n",
            "fizz\n"
          ]
        }
      ]
    },
    {
      "cell_type": "code",
      "source": [],
      "metadata": {
        "id": "Qzf3lzWMPjCz"
      },
      "execution_count": null,
      "outputs": []
    }
  ]
}