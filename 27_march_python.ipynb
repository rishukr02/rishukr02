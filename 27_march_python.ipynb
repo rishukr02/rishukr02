{
  "nbformat": 4,
  "nbformat_minor": 0,
  "metadata": {
    "colab": {
      "provenance": [],
      "authorship_tag": "ABX9TyO11WvlbyRsf6YFxajJX/iN",
      "include_colab_link": true
    },
    "kernelspec": {
      "name": "python3",
      "display_name": "Python 3"
    },
    "language_info": {
      "name": "python"
    }
  },
  "cells": [
    {
      "cell_type": "markdown",
      "metadata": {
        "id": "view-in-github",
        "colab_type": "text"
      },
      "source": [
        "<a href=\"https://colab.research.google.com/github/rishukr02/rishukr02/blob/main/27_march_python.ipynb\" target=\"_parent\"><img src=\"https://colab.research.google.com/assets/colab-badge.svg\" alt=\"Open In Colab\"/></a>"
      ]
    },
    {
      "cell_type": "code",
      "execution_count": null,
      "metadata": {
        "id": "ccKb2_xoZ9Qt"
      },
      "outputs": [],
      "source": [
        "# four pillars of oop\n",
        "# 1.abstraction 2.encapsulation 3.inheritance 4.polymorphison"
      ]
    },
    {
      "cell_type": "code",
      "source": [
        "# inheritance"
      ],
      "metadata": {
        "id": "bJjznUPXa1RE"
      },
      "execution_count": null,
      "outputs": []
    },
    {
      "cell_type": "code",
      "source": [
        "class human :\n",
        "  def eat(self):\n",
        "    print(\"i can eat\")\n",
        "class male(human):\n",
        "  def work(self):\n",
        "    print(\" i can work\")\n",
        "class boy(human):\n",
        "  def code (self):\n",
        "    print(\"i can code\")\n",
        "\n",
        "male1=male()\n",
        "male1.work()\n",
        "male1.eat()\n",
        "\n",
        "boy1=boy()\n",
        "boy1.code()\n",
        "boy1.eat()\n",
        "\n",
        "\n"
      ],
      "metadata": {
        "colab": {
          "base_uri": "https://localhost:8080/"
        },
        "id": "ODbcQQSNbT5a",
        "outputId": "4c3d59ce-de5e-447e-f94e-4584766c17e1"
      },
      "execution_count": 1,
      "outputs": [
        {
          "output_type": "stream",
          "name": "stdout",
          "text": [
            " i can work\n",
            "i can eat\n",
            "i can code\n",
            "i can eat\n"
          ]
        }
      ]
    },
    {
      "cell_type": "code",
      "source": [
        "class Account:\n",
        "    def __init__(self, Acc_no, Acc_Balance):\n",
        "        self.Acc_no = Acc_no\n",
        "        self.Acc_Balance = Acc_Balance\n",
        "\n",
        "    def Debit_Acc(self, Debit):\n",
        "        self.debit = Debit\n",
        "        self.Acc_Balance -= self.debit\n",
        "        print(self.Acc_Balance)\n",
        "\n",
        "    def credit(self, credit_Amount):\n",
        "        self.credit_Amount = credit_Amount\n",
        "        self.Acc_Balance += self.credit_Amount\n",
        "        print(self.Acc_Balance)\n",
        "\n",
        "obj1 = Account(\"356002\", 10000)\n",
        "obj1.Debit_Acc(8000)\n",
        "obj1.credit(1000)\n"
      ],
      "metadata": {
        "colab": {
          "base_uri": "https://localhost:8080/"
        },
        "id": "Q-48RC-5fNaI",
        "outputId": "b158bb97-9095-4585-faa6-f6e76d80db91"
      },
      "execution_count": 4,
      "outputs": [
        {
          "output_type": "stream",
          "name": "stdout",
          "text": [
            "2000\n",
            "3000\n"
          ]
        }
      ]
    },
    {
      "cell_type": "code",
      "source": [
        "class Human:\n",
        "    def __init__(self, name, num_heart):\n",
        "        print(\"Calling init from human\")\n",
        "        self.eyes = 2\n",
        "        self.nose = 1\n",
        "        self.heart = num_heart\n",
        "\n",
        "    def work(self):\n",
        "        print(\"I can work\")\n",
        "\n",
        "\n",
        "class Male(Human):\n",
        "    def __init__(self, name, num_heart):\n",
        "        super().__init__(name, num_heart)\n",
        "        print(\"Calling init from male\")\n",
        "        self.name = name\n",
        "\n",
        "    def work(self):\n",
        "        print(\"I can code\")\n",
        "\n",
        "\n",
        "boy1 = Male(\"rishi\", 1)\n",
        "print(boy1.name)\n",
        "boy1.work()\n"
      ],
      "metadata": {
        "colab": {
          "base_uri": "https://localhost:8080/"
        },
        "id": "OxrEonw4j6NL",
        "outputId": "a756c9c2-cc9c-49d0-c805-afcdfebbe807"
      },
      "execution_count": 10,
      "outputs": [
        {
          "output_type": "stream",
          "name": "stdout",
          "text": [
            "Calling init from human\n",
            "Calling init from male\n",
            "rishi\n",
            "I can code\n"
          ]
        }
      ]
    },
    {
      "cell_type": "code",
      "source": [
        "class human(object):\n",
        "  def __init__(self,name,age):\n",
        "    self.name = name\n",
        "    self.age = age\n",
        "  def display (self):\n",
        "      print(f\"my name is (rishi)\")\n",
        "\n",
        "      class male(human):\n",
        "  def __init__(self,age,name,location):\n",
        "    print(\"i am __init__ of male class\")\n",
        "    human.__init__(self,name,age)\n",
        "    self.location = location\n",
        "  def work(self):\n",
        "    print(\"i can work\")\n",
        "\n",
        "    class female(human):\n",
        "      def __init__(self, name, age):\n",
        "\n"
      ],
      "metadata": {
        "id": "639mYjB2l5H2"
      },
      "execution_count": null,
      "outputs": []
    },
    {
      "cell_type": "code",
      "source": [
        "class Human:\n",
        "    def __init__(self, name, age):\n",
        "        self.name = name\n",
        "        self.age = age\n",
        "\n",
        "    def display(self):\n",
        "        print(f\"My name is {self.name}\")\n",
        "\n",
        "class Male(Human):\n",
        "    def __init__(self, name, age, location):\n",
        "        super().__init__(name, age)\n",
        "        print(\"I am __init__ of Male class\")\n",
        "        self.location = location\n",
        "\n",
        "    def work(self):\n",
        "        print(\"I can work\")\n",
        "\n",
        "class Female(Human):\n",
        "    def __init__(self, name, age):\n",
        "        super().__init__(name, age)\n",
        "        print(\"I am __init__ of Female class\")\n",
        "\n",
        "obj1 = Female(\"sonia\", 19)\n",
        "print(obj1.name)\n"
      ],
      "metadata": {
        "colab": {
          "base_uri": "https://localhost:8080/"
        },
        "id": "IePJYwRDoSOM",
        "outputId": "0bc1a97a-f772-466e-833f-8991ab8db5a6"
      },
      "execution_count": 13,
      "outputs": [
        {
          "output_type": "stream",
          "name": "stdout",
          "text": [
            "I am __init__ of Female class\n",
            "sonia\n"
          ]
        }
      ]
    },
    {
      "cell_type": "code",
      "source": [
        "class Human:\n",
        "    def __init__(self, name, age):\n",
        "        self.name = name\n",
        "        self.age = age\n",
        "\n",
        "    def display(self):\n",
        "        print(f\"My name is {self.name}\")\n",
        "\n",
        "class Male(Human):\n",
        "    def __init__(self, name, age, location):\n",
        "        super().__init__(name, age)\n",
        "        print(\"I am __init__ of Male class\")\n",
        "        self.location = location\n",
        "\n",
        "    def work(self):\n",
        "        print(\"I can work\")\n",
        "\n",
        "class Female(Human):\n",
        "    def __init__(self, name, age):\n",
        "        super().__init__(name, age)\n",
        "        print(\"I am __init__ of Female class\")\n",
        "\n",
        "obj1 = Female(\"sonia\", 19)\n",
        "print(obj1.name)\n",
        "\n",
        "obj2 = Male(\"rishi\", 19,\"some location\" )\n",
        "print(obj2.name)\n"
      ],
      "metadata": {
        "colab": {
          "base_uri": "https://localhost:8080/"
        },
        "id": "9SvMiO1XpsGn",
        "outputId": "1bba1fc7-f8b2-4c41-b1a1-4be23dbb0703"
      },
      "execution_count": 19,
      "outputs": [
        {
          "output_type": "stream",
          "name": "stdout",
          "text": [
            "I am __init__ of Female class\n",
            "sonia\n",
            "I am __init__ of Male class\n",
            "rishi\n"
          ]
        }
      ]
    },
    {
      "cell_type": "code",
      "source": [
        "# Abstraction\n"
      ],
      "metadata": {
        "id": "6sHGi2u3qNWS"
      },
      "execution_count": null,
      "outputs": []
    }
  ]
}