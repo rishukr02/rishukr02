{
  "nbformat": 4,
  "nbformat_minor": 0,
  "metadata": {
    "colab": {
      "provenance": [],
      "authorship_tag": "ABX9TyPC8/mgT1NDdxDKgVNvylIv",
      "include_colab_link": true
    },
    "kernelspec": {
      "name": "python3",
      "display_name": "Python 3"
    },
    "language_info": {
      "name": "python"
    }
  },
  "cells": [
    {
      "cell_type": "markdown",
      "metadata": {
        "id": "view-in-github",
        "colab_type": "text"
      },
      "source": [
        "<a href=\"https://colab.research.google.com/github/rishukr02/rishukr02/blob/main/3_april_python.ipynb\" target=\"_parent\"><img src=\"https://colab.research.google.com/assets/colab-badge.svg\" alt=\"Open In Colab\"/></a>"
      ]
    },
    {
      "cell_type": "code",
      "source": [
        "class Student:\n",
        "    def __init__(self, name, rollno, age):\n",
        "        self.name = name\n",
        "        self.rollno = rollno\n",
        "        self.age = age\n",
        "\n",
        "    def __display(self):\n",
        "        print(f\"My name is {self.name} and my age is {self.age}\")\n",
        "\n",
        "    def show(self):\n",
        "        self.__display()\n",
        "\n",
        "\n",
        "s1 = Student(\"rishi\", 223, 20)\n",
        "s1.show()\n",
        "s1.name = \"rishu\" #name update\n",
        "s1.show()"
      ],
      "metadata": {
        "colab": {
          "base_uri": "https://localhost:8080/"
        },
        "id": "E8E5u_jqgs0l",
        "outputId": "775f6816-53b5-48c3-e433-e6f3134027b9"
      },
      "execution_count": null,
      "outputs": [
        {
          "output_type": "stream",
          "name": "stdout",
          "text": [
            "My name is rishi and my age is 20\n",
            "My name is rishu and my age is 20\n"
          ]
        }
      ]
    },
    {
      "cell_type": "code",
      "source": [
        "\n",
        "class Student:\n",
        "    def __init__(self, name, rollno, age):\n",
        "        self.name = name\n",
        "        self.rollno = rollno\n",
        "        self.__age = age\n",
        "\n",
        "    def get_age(self):\n",
        "        return self.__age\n",
        "    def set_age(self,age2:)\n",
        "        if age2>34:\n",
        "s1 = student(\"rahul\",22)\n",
        "print(s1.get_age())\n"
      ],
      "metadata": {
        "colab": {
          "base_uri": "https://localhost:8080/",
          "height": 106
        },
        "id": "NReiIsbVitqQ",
        "outputId": "c4ece787-3a31-4ec6-c7ce-5c9ea5151e3c"
      },
      "execution_count": null,
      "outputs": [
        {
          "output_type": "error",
          "ename": "SyntaxError",
          "evalue": "invalid syntax (<ipython-input-9-2e3f8f3a7725>, line 10)",
          "traceback": [
            "\u001b[0;36m  File \u001b[0;32m\"<ipython-input-9-2e3f8f3a7725>\"\u001b[0;36m, line \u001b[0;32m10\u001b[0m\n\u001b[0;31m    def set_age(self,age2:)\u001b[0m\n\u001b[0m                          ^\u001b[0m\n\u001b[0;31mSyntaxError\u001b[0m\u001b[0;31m:\u001b[0m invalid syntax\n"
          ]
        }
      ]
    },
    {
      "cell_type": "code",
      "source": [
        "class Student:\n",
        "    def __init__(self, name, rollno, age):\n",
        "        self.name = name\n",
        "        self.rollno = rollno\n",
        "        self.__age = age\n",
        "\n",
        "    def get_age(self):\n",
        "        return self.__age\n",
        "\n",
        "    def set_age(self, age2):\n",
        "        if age2 > 34:\n",
        "            self.__age = age2\n",
        "\n",
        "s1 = Student(\"rk\", 22, 30)\n",
        "print(s1.get_age())"
      ],
      "metadata": {
        "colab": {
          "base_uri": "https://localhost:8080/"
        },
        "id": "Okdf5o1frvZR",
        "outputId": "d5ab782a-abd5-42d3-c76f-014128a6dc7f"
      },
      "execution_count": null,
      "outputs": [
        {
          "output_type": "stream",
          "name": "stdout",
          "text": [
            "30\n"
          ]
        }
      ]
    },
    {
      "cell_type": "code",
      "source": [
        "#implementing polymorphism\n",
        "#1.duck typing  allows static and dymnamic\n",
        "\n",
        " #function defines sq of a number\n"
      ],
      "metadata": {
        "id": "2ERLmi1Fr8cj"
      },
      "execution_count": null,
      "outputs": []
    },
    {
      "cell_type": "code",
      "source": [
        "def square(x):\n",
        "  return x * x\n",
        "\n",
        "result = square(5)\n",
        "print (result)"
      ],
      "metadata": {
        "colab": {
          "base_uri": "https://localhost:8080/"
        },
        "id": "28VswkvMsbmL",
        "outputId": "4cead165-7944-4635-f5f4-571acc063418"
      },
      "execution_count": null,
      "outputs": [
        {
          "output_type": "stream",
          "name": "stdout",
          "text": [
            "25\n"
          ]
        }
      ]
    },
    {
      "cell_type": "code",
      "source": [
        "class duck:\n",
        "  def swim(self):\n",
        "    print(\"i do swim \")\n",
        "  def speaks(self):\n",
        "    print(\"quack quack\")\n",
        "class bird :\n",
        "  def swim (self):\n",
        "    print(\"i am a bird i swim\")\n",
        "  def speaks (self):\n",
        "    print(\"i am a bird i can speak\")\n",
        "\n",
        "class person :\n",
        "  def swim (self):\n",
        "    print (\"i am a person who can swim\")\n",
        "  def display(abc):\n",
        "    abc.swim()\n",
        "    abc.speaks()\n",
        "    print(\"info displayed\")\n",
        "\n",
        "  d = Duck()\n",
        "  display(d)\n",
        "  b = Bird()\n",
        "  display(b)"
      ],
      "metadata": {
        "colab": {
          "base_uri": "https://localhost:8080/"
        },
        "id": "hUedEOr7s0z-",
        "outputId": "88764f41-28ae-4cb1-dbbf-3c2e15df8194"
      },
      "execution_count": null,
      "outputs": [
        {
          "output_type": "stream",
          "name": "stdout",
          "text": [
            "I d0 swim\n",
            "quack quack\n",
            "info displayed\n",
            "I am a bird i swim\n",
            "I am a bird I can speak\n",
            "info displayed\n"
          ]
        }
      ]
    }
  ]
}