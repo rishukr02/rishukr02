{
  "nbformat": 4,
  "nbformat_minor": 0,
  "metadata": {
    "colab": {
      "provenance": [],
      "authorship_tag": "ABX9TyO2KHhshLp9vmgSt6EXHeTm",
      "include_colab_link": true
    },
    "kernelspec": {
      "name": "python3",
      "display_name": "Python 3"
    },
    "language_info": {
      "name": "python"
    }
  },
  "cells": [
    {
      "cell_type": "markdown",
      "metadata": {
        "id": "view-in-github",
        "colab_type": "text"
      },
      "source": [
        "<a href=\"https://colab.research.google.com/github/rishukr02/rishukr02/blob/main/5_feb_python.ipynb\" target=\"_parent\"><img src=\"https://colab.research.google.com/assets/colab-badge.svg\" alt=\"Open In Colab\"/></a>"
      ]
    },
    {
      "cell_type": "code",
      "execution_count": null,
      "metadata": {
        "colab": {
          "base_uri": "https://localhost:8080/"
        },
        "id": "4gCF4UvuN7JR",
        "outputId": "b82a2d3f-f871-4cd1-c9c9-bd26053710d0"
      },
      "outputs": [
        {
          "output_type": "stream",
          "name": "stdout",
          "text": [
            "{64, 34, 3, 67, 68, 12.23, 45, 54, 87, 24, 59, 60}\n"
          ]
        }
      ],
      "source": [
        "set1 ={12.23,34,87,45,67,3}\n",
        "set2 = {24,59,68,54,60,64,3}\n",
        "print(set1.union(set2))"
      ]
    },
    {
      "cell_type": "code",
      "source": [
        "set3 = {\"upes\",\"python\"}\n",
        "set4 = {\"sets\",\"union\"}\n",
        "set4.union(set3)"
      ],
      "metadata": {
        "colab": {
          "base_uri": "https://localhost:8080/"
        },
        "id": "zUaSFeQLOe4n",
        "outputId": "75c0180c-413f-42b7-9d94-0e00f1e14dfd"
      },
      "execution_count": null,
      "outputs": [
        {
          "output_type": "execute_result",
          "data": {
            "text/plain": [
              "{'python', 'sets', 'union', 'upes'}"
            ]
          },
          "metadata": {},
          "execution_count": 3
        }
      ]
    },
    {
      "cell_type": "code",
      "source": [
        "print (set3|set4|set2)"
      ],
      "metadata": {
        "colab": {
          "base_uri": "https://localhost:8080/"
        },
        "id": "OecDgP_MPPZ0",
        "outputId": "b3b8be32-b5a0-475c-c140-cebccf6074db"
      },
      "execution_count": null,
      "outputs": [
        {
          "output_type": "stream",
          "name": "stdout",
          "text": [
            "{'upes', 'python', 64, 3, 68, 'sets', 54, 'union', 24, 59, 60}\n"
          ]
        }
      ]
    },
    {
      "cell_type": "code",
      "source": [
        "set3.union((\"abc\",\"def\",123,))"
      ],
      "metadata": {
        "colab": {
          "base_uri": "https://localhost:8080/"
        },
        "id": "3p2CnZKUPgOU",
        "outputId": "d4fcc1a3-bfdc-47ee-8566-1f859035d6fc"
      },
      "execution_count": null,
      "outputs": [
        {
          "output_type": "execute_result",
          "data": {
            "text/plain": [
              "{123, 'abc', 'def', 'python', 'upes'}"
            ]
          },
          "metadata": {},
          "execution_count": 12
        }
      ]
    },
    {
      "cell_type": "code",
      "source": [
        "set1.intersection(set2)"
      ],
      "metadata": {
        "colab": {
          "base_uri": "https://localhost:8080/"
        },
        "id": "iplvnLBDQLAZ",
        "outputId": "b9862445-cd3a-4e43-9473-90956830e340"
      },
      "execution_count": null,
      "outputs": [
        {
          "output_type": "execute_result",
          "data": {
            "text/plain": [
              "{3}"
            ]
          },
          "metadata": {},
          "execution_count": 10
        }
      ]
    },
    {
      "cell_type": "code",
      "source": [
        "st1= {\"UPES\",123,321}\n",
        "st2= {234,\"upes\",456}\n",
        "st3= {4533,\"upes\",543}\n",
        "st2.difference_update(st3)\n",
        "st3.symmetric_difference(st2)"
      ],
      "metadata": {
        "colab": {
          "base_uri": "https://localhost:8080/"
        },
        "id": "G0ympNIDQulX",
        "outputId": "a3e68e52-ede5-4ba8-a563-9316e73508c3"
      },
      "execution_count": null,
      "outputs": [
        {
          "output_type": "execute_result",
          "data": {
            "text/plain": [
              "{234, 4533, 456, 543, 'upes'}"
            ]
          },
          "metadata": {},
          "execution_count": 13
        }
      ]
    },
    {
      "cell_type": "code",
      "source": [
        "set2 ^ set3 # for symmetric difference"
      ],
      "metadata": {
        "colab": {
          "base_uri": "https://localhost:8080/"
        },
        "id": "DReJkMiiS5qz",
        "outputId": "dac49cce-ed41-4559-b88d-76a4732e1015"
      },
      "execution_count": null,
      "outputs": [
        {
          "output_type": "execute_result",
          "data": {
            "text/plain": [
              "{24, 3, 54, 59, 60, 64, 68, 'python', 'upes'}"
            ]
          },
          "metadata": {},
          "execution_count": 16
        }
      ]
    },
    {
      "cell_type": "code",
      "source": [
        "st2.isdisjoint(st3)"
      ],
      "metadata": {
        "colab": {
          "base_uri": "https://localhost:8080/"
        },
        "id": "m_J_MHGuTgDQ",
        "outputId": "ae45bfe3-129d-4c65-eeb2-fe69063bddf7"
      },
      "execution_count": null,
      "outputs": [
        {
          "output_type": "execute_result",
          "data": {
            "text/plain": [
              "True"
            ]
          },
          "metadata": {},
          "execution_count": 19
        }
      ]
    },
    {
      "cell_type": "code",
      "source": [
        "st1.issubset(st2)"
      ],
      "metadata": {
        "colab": {
          "base_uri": "https://localhost:8080/"
        },
        "id": "PPmbZwjOT6Ku",
        "outputId": "0be08f54-f134-4efb-e121-ecf950846a10"
      },
      "execution_count": null,
      "outputs": [
        {
          "output_type": "execute_result",
          "data": {
            "text/plain": [
              "False"
            ]
          },
          "metadata": {},
          "execution_count": 21
        }
      ]
    },
    {
      "cell_type": "code",
      "source": [
        "\n",
        "name = \"abhisamp\"\n",
        "for x in name:\n",
        "  if x ==\"abhisamp\"\n",
        "  break\n",
        "    print (x)"
      ],
      "metadata": {
        "colab": {
          "base_uri": "https://localhost:8080/",
          "height": 140
        },
        "id": "Gc4um1dEUE4e",
        "outputId": "b95d23e6-47b3-4ab3-c5c2-e3ba75eac632"
      },
      "execution_count": null,
      "outputs": [
        {
          "output_type": "error",
          "ename": "SyntaxError",
          "evalue": "expected ':' (<ipython-input-26-8c6460cd5add>, line 3)",
          "traceback": [
            "\u001b[0;36m  File \u001b[0;32m\"<ipython-input-26-8c6460cd5add>\"\u001b[0;36m, line \u001b[0;32m3\u001b[0m\n\u001b[0;31m    if x ==\"abhisamp\"\u001b[0m\n\u001b[0m                     ^\u001b[0m\n\u001b[0;31mSyntaxError\u001b[0m\u001b[0;31m:\u001b[0m expected ':'\n"
          ]
        }
      ]
    },
    {
      "cell_type": "code",
      "source": [
        "list1 = {1,2,3,4,5,6}\n",
        "for x in list1:\n",
        "    square= x*x\n",
        "    print(square)"
      ],
      "metadata": {
        "colab": {
          "base_uri": "https://localhost:8080/"
        },
        "id": "_pQflvaFVOIv",
        "outputId": "ef4cb2c3-5320-4695-a0d9-d67539817fac"
      },
      "execution_count": null,
      "outputs": [
        {
          "output_type": "stream",
          "name": "stdout",
          "text": [
            "1\n",
            "4\n",
            "9\n",
            "16\n",
            "25\n",
            "36\n"
          ]
        }
      ]
    },
    {
      "cell_type": "code",
      "source": [
        "list2= {1,2,3,4,5,7}\n",
        "list3=[]\n",
        "for x in list2:\n",
        "  square = x*x\n",
        "  list3.append(square)\n",
        "  print(list3)"
      ],
      "metadata": {
        "colab": {
          "base_uri": "https://localhost:8080/"
        },
        "id": "joCPcrbdWhsn",
        "outputId": "32506cc9-b9c0-4c4a-82c7-8e6306799a77"
      },
      "execution_count": null,
      "outputs": [
        {
          "output_type": "stream",
          "name": "stdout",
          "text": [
            "[1]\n",
            "[1, 4]\n",
            "[1, 4, 9]\n",
            "[1, 4, 9, 16]\n",
            "[1, 4, 9, 16, 25]\n",
            "[1, 4, 9, 16, 25, 49]\n"
          ]
        }
      ]
    },
    {
      "cell_type": "code",
      "source": [
        "\n",
        "numbers = {12,23,45,67,89,87}\n",
        "for i in numbers:\n",
        "    print (i)\n",
        "    if i==43:\n",
        "       break\n",
        "else:\n",
        "        print(\"for loop has been executed successfully\")"
      ],
      "metadata": {
        "colab": {
          "base_uri": "https://localhost:8080/"
        },
        "id": "ehhMFp2OXCgU",
        "outputId": "6fc234e1-e074-48f0-d2d4-5fc16dac12cb"
      },
      "execution_count": null,
      "outputs": [
        {
          "output_type": "stream",
          "name": "stdout",
          "text": [
            "67\n",
            "23\n",
            "87\n",
            "89\n",
            "12\n",
            "45\n",
            "for loop has been executed successfully\n"
          ]
        }
      ]
    }
  ]
}