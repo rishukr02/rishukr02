{
  "nbformat": 4,
  "nbformat_minor": 0,
  "metadata": {
    "colab": {
      "provenance": [],
      "authorship_tag": "ABX9TyNIFXWVOpM+UbRgB+d6kYj3",
      "include_colab_link": true
    },
    "kernelspec": {
      "name": "python3",
      "display_name": "Python 3"
    },
    "language_info": {
      "name": "python"
    }
  },
  "cells": [
    {
      "cell_type": "markdown",
      "metadata": {
        "id": "view-in-github",
        "colab_type": "text"
      },
      "source": [
        "<a href=\"https://colab.research.google.com/github/rishukr02/rishukr02/blob/main/21_feb_python.ipynb\" target=\"_parent\"><img src=\"https://colab.research.google.com/assets/colab-badge.svg\" alt=\"Open In Colab\"/></a>"
      ]
    },
    {
      "cell_type": "code",
      "execution_count": null,
      "metadata": {
        "id": "5PHJVGWqNbP8"
      },
      "outputs": [],
      "source": [
        "phone_no[\"kushal\"]={1111,2222,3333}\n",
        "print(phone_no)"
      ]
    },
    {
      "cell_type": "code",
      "source": [
        "ph_no={\n",
        "    'ram':1234,\n",
        "    'sham':3456,\n",
        "    'mohan':897432\n",
        "}\n",
        "print(ph_no)"
      ],
      "metadata": {
        "colab": {
          "base_uri": "https://localhost:8080/"
        },
        "id": "5ZhmwErzTarb",
        "outputId": "d2a9d41c-0ead-4b47-bf0c-4f5dad2a36c9"
      },
      "execution_count": null,
      "outputs": [
        {
          "output_type": "stream",
          "name": "stdout",
          "text": [
            "{'ram': 1234, 'sham': 3456, 'mohan': 897432}\n"
          ]
        }
      ]
    },
    {
      "cell_type": "code",
      "source": [
        "print(type(ph_no))"
      ],
      "metadata": {
        "colab": {
          "base_uri": "https://localhost:8080/"
        },
        "id": "U7UqDodrUm71",
        "outputId": "f263ea78-a7c4-4db3-f33d-dbb1dbd8be78"
      },
      "execution_count": null,
      "outputs": [
        {
          "output_type": "stream",
          "name": "stdout",
          "text": [
            "<class 'dict'>\n"
          ]
        }
      ]
    },
    {
      "cell_type": "code",
      "source": [
        "print(ph_no[\"ram\"])"
      ],
      "metadata": {
        "colab": {
          "base_uri": "https://localhost:8080/"
        },
        "id": "Oy_IqMTZU6d-",
        "outputId": "c42459d8-fa74-4707-c9e8-d99a393ba120"
      },
      "execution_count": null,
      "outputs": [
        {
          "output_type": "stream",
          "name": "stdout",
          "text": [
            "1234\n"
          ]
        }
      ]
    },
    {
      "cell_type": "code",
      "source": [],
      "metadata": {
        "id": "AYnlffeDVYA7"
      },
      "execution_count": null,
      "outputs": []
    },
    {
      "cell_type": "code",
      "source": [
        "print(phone_no.get('ram'))"
      ],
      "metadata": {
        "id": "KQUl5cZhOJBL"
      },
      "execution_count": null,
      "outputs": []
    },
    {
      "cell_type": "code",
      "source": [
        "data = {\n",
        "    1:\"upes\",\n",
        "    2:\"python\",\n",
        "    0:\"socs\"\n",
        "}\n",
        "print(data[0])\n"
      ],
      "metadata": {
        "colab": {
          "base_uri": "https://localhost:8080/"
        },
        "id": "HplfOAtvO_sa",
        "outputId": "f3bf6593-8589-4a21-f9de-d4701dce7004"
      },
      "execution_count": null,
      "outputs": [
        {
          "output_type": "stream",
          "name": "stdout",
          "text": [
            "socs\n"
          ]
        }
      ]
    },
    {
      "cell_type": "code",
      "source": [
        "data.pop(2)"
      ],
      "metadata": {
        "colab": {
          "base_uri": "https://localhost:8080/",
          "height": 36
        },
        "id": "NxQv6twcPo5R",
        "outputId": "0f8a5d01-3a47-45d1-e40a-fec9c4c7c6ec"
      },
      "execution_count": null,
      "outputs": [
        {
          "output_type": "execute_result",
          "data": {
            "text/plain": [
              "'python'"
            ],
            "application/vnd.google.colaboratory.intrinsic+json": {
              "type": "string"
            }
          },
          "metadata": {},
          "execution_count": 3
        }
      ]
    },
    {
      "cell_type": "code",
      "source": [
        "print(phone_no)"
      ],
      "metadata": {
        "id": "3nHKeuPkQEds"
      },
      "execution_count": null,
      "outputs": []
    },
    {
      "cell_type": "code",
      "source": [
        "print(data)"
      ],
      "metadata": {
        "id": "IpvDsqOSQQIm"
      },
      "execution_count": null,
      "outputs": []
    },
    {
      "cell_type": "code",
      "source": [
        "data.popitem()"
      ],
      "metadata": {
        "colab": {
          "base_uri": "https://localhost:8080/"
        },
        "id": "dpCCVQ4MQWV_",
        "outputId": "3d67be9d-6665-4794-f6d4-a3724a50cdfc"
      },
      "execution_count": null,
      "outputs": [
        {
          "output_type": "execute_result",
          "data": {
            "text/plain": [
              "(0, 'socs')"
            ]
          },
          "metadata": {},
          "execution_count": 4
        }
      ]
    },
    {
      "cell_type": "code",
      "source": [
        "phone_no.clear()"
      ],
      "metadata": {
        "id": "CJIck8c-QoDZ"
      },
      "execution_count": null,
      "outputs": []
    },
    {
      "cell_type": "code",
      "source": [
        "print(data.items)#prints list of all item and print as tuple"
      ],
      "metadata": {
        "id": "UVmrhTASQ3Tw"
      },
      "execution_count": null,
      "outputs": []
    },
    {
      "cell_type": "code",
      "source": [
        "for i in data:\n",
        "  print(i)\n",
        "  print(data[i])"
      ],
      "metadata": {
        "colab": {
          "base_uri": "https://localhost:8080/"
        },
        "id": "1tQ2r9ZzRHRW",
        "outputId": "98dca323-39da-44be-e11c-f0ff71224f84"
      },
      "execution_count": null,
      "outputs": [
        {
          "output_type": "stream",
          "name": "stdout",
          "text": [
            "1\n",
            "upes\n",
            "2\n",
            "python\n",
            "0\n",
            "socs\n"
          ]
        }
      ]
    },
    {
      "cell_type": "code",
      "source": [
        "student_marks={'Aryan':97,'Abhi':80,'Rishu':75,'Shubham':91,'Krishna':86,'vishesh':68,'virat':98,'dhoni':99,'Dev':98}\n",
        "for i in student_marks:\n",
        "    mark=student_marks[i]\n",
        "    if mark>90:\n",
        "        print(i,\"Grade: A+\")\n",
        "    elif mark>80:\n",
        "        print(i,\"Grade: A\")\n",
        "    elif mark>70:\n",
        "        print(i,\"Grade: B+\")\n",
        "    elif mark>60:\n",
        "        print(i,\"Grade: B\")\n",
        "    elif mark>50:\n",
        "        print(i,\"Grade: C+\")\n",
        "    elif mark>40:\n",
        "        print(i,\"Grade: C\")\n",
        "    elif mark>33:\n",
        "        print(i,\"Grade: D\")\n",
        "    else:\n",
        "        print(\"Fail\")"
      ],
      "metadata": {
        "id": "G9YtKNQeR4xD",
        "colab": {
          "base_uri": "https://localhost:8080/"
        },
        "outputId": "2a4d9852-79dc-4c66-ca29-1464099a3a28"
      },
      "execution_count": null,
      "outputs": [
        {
          "output_type": "stream",
          "name": "stdout",
          "text": [
            "Aryan Grade: A+\n",
            "Abhi Grade: B+\n",
            "Rishu Grade: B+\n",
            "Shubham Grade: A+\n",
            "Krishna Grade: A\n",
            "vishesh Grade: B\n",
            "virat Grade: A+\n",
            "dhoni Grade: A+\n",
            "Dev Grade: A+\n"
          ]
        }
      ]
    },
    {
      "cell_type": "code",
      "source": [
        "student_data={\n",
        "    \"ram\":{\"age\":17,\"roll no\":20}\n",
        "}\n",
        "print(student_data[\"ram\"][\"roll no\"])"
      ],
      "metadata": {
        "colab": {
          "base_uri": "https://localhost:8080/"
        },
        "id": "lCGzYm34XVfe",
        "outputId": "b659ea2b-e995-46b7-b304-ec0b81dca4c9"
      },
      "execution_count": null,
      "outputs": [
        {
          "output_type": "stream",
          "name": "stdout",
          "text": [
            "20\n"
          ]
        }
      ]
    },
    {
      "cell_type": "code",
      "source": [
        "print(student_data[\"ram\"].pop(\"roll no\"))"
      ],
      "metadata": {
        "colab": {
          "base_uri": "https://localhost:8080/"
        },
        "id": "8rwgcYxnYJ0S",
        "outputId": "f77ab066-cb54-48d5-fde6-ba72b364cde2"
      },
      "execution_count": null,
      "outputs": [
        {
          "output_type": "stream",
          "name": "stdout",
          "text": [
            "20\n"
          ]
        }
      ]
    },
    {
      "cell_type": "code",
      "source": [
        "print(student_data)"
      ],
      "metadata": {
        "colab": {
          "base_uri": "https://localhost:8080/"
        },
        "id": "IpZq2JqZYbUU",
        "outputId": "37b9cd19-c5ed-47ba-ada0-105b2bd9b882"
      },
      "execution_count": null,
      "outputs": [
        {
          "output_type": "stream",
          "name": "stdout",
          "text": [
            "{'ram': {'age': 17}}\n"
          ]
        }
      ]
    },
    {
      "cell_type": "code",
      "source": [
        "travel{\"darjeeling\":[\"\"]}"
      ],
      "metadata": {
        "id": "V2qTHAcqYh9w"
      },
      "execution_count": null,
      "outputs": []
    },
    {
      "cell_type": "code",
      "source": [],
      "metadata": {
        "id": "YdxnOXYtb_-o"
      },
      "execution_count": null,
      "outputs": []
    }
  ]
}