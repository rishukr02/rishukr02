{
  "nbformat": 4,
  "nbformat_minor": 0,
  "metadata": {
    "colab": {
      "provenance": [],
      "authorship_tag": "ABX9TyPRVbMQj62ZwryHYsLz8YX2",
      "include_colab_link": true
    },
    "kernelspec": {
      "name": "python3",
      "display_name": "Python 3"
    },
    "language_info": {
      "name": "python"
    }
  },
  "cells": [
    {
      "cell_type": "markdown",
      "metadata": {
        "id": "view-in-github",
        "colab_type": "text"
      },
      "source": [
        "<a href=\"https://colab.research.google.com/github/rishukr02/rishukr02/blob/main/15_march_python.ipynb\" target=\"_parent\"><img src=\"https://colab.research.google.com/assets/colab-badge.svg\" alt=\"Open In Colab\"/></a>"
      ]
    },
    {
      "cell_type": "code",
      "source": [
        "f1 =- open(\"file11.text\",\"x\")"
      ],
      "metadata": {
        "id": "1CYHHrv8Go7G"
      },
      "execution_count": null,
      "outputs": []
    },
    {
      "cell_type": "code",
      "source": [
        "int1 = 100\n",
        "int2 = \"hello\""
      ],
      "metadata": {
        "id": "S2GTTqZjGp9Z"
      },
      "execution_count": null,
      "outputs": []
    },
    {
      "cell_type": "code",
      "source": [
        "#EXCEPTION HANDLING\n",
        "int1 = int(input(\"Enter the first number: \"))\n",
        "int2 = int(input(\"Enter the second number: \"))\n",
        "\n",
        "try:\n",
        "    result = int1 / int2\n",
        "    print(\"Result:\", result)\n",
        "except ZeroDivisionError:\n",
        "    print(\"Error: Division by zero\")\n",
        "\n",
        "print(\"First number:\", int1)"
      ],
      "metadata": {
        "colab": {
          "base_uri": "https://localhost:8080/"
        },
        "id": "7UNMS5GQlE03",
        "outputId": "a4cab62a-e053-449e-b91b-a6460a60daf8"
      },
      "execution_count": null,
      "outputs": [
        {
          "output_type": "stream",
          "name": "stdout",
          "text": [
            "Enter the first number: 1\n",
            "Enter the second number: 0\n",
            "Error: Division by zero\n",
            "First number: 1\n"
          ]
        }
      ]
    },
    {
      "cell_type": "code",
      "source": [
        "try:\n",
        "    int1 = int(input(\"Enter the first number: \"))\n",
        "    int2 = int(input(\"Enter the second number: \"))\n",
        "\n",
        "    result = int1 / int2\n",
        "    print(\"Result:\", result)\n",
        "\n",
        "except (ZeroDivisionError, ValueError):\n",
        "    print(\"Error: Invalid input or division by zero\")\n",
        "\n",
        "except NameError:\n",
        "    print(\"Error: Name is not defined\")\n",
        "\n",
        "else:\n",
        "    print(\"No error occurred\")\n",
        "\n",
        "finally:\n",
        "    print(\"Execution complete\")"
      ],
      "metadata": {
        "id": "eIocfyNRmQpa"
      },
      "execution_count": null,
      "outputs": []
    },
    {
      "cell_type": "code",
      "source": [
        "import sys\n",
        "int1 = int(input(\"enter the first number\"))\n",
        "int2 = int(input(\"enter the second number\"))\n",
        "\n",
        "\n",
        "try:\n",
        "  result = int1/int2\n",
        "  print(result1)\n",
        "except:\n",
        "  print(sys.exc_info()[1])\n",
        "\n",
        "\n",
        "print(int1)"
      ],
      "metadata": {
        "colab": {
          "base_uri": "https://localhost:8080/"
        },
        "id": "O6JFUjOxIEJb",
        "outputId": "80df57be-e4da-4f32-821d-880b98805a13"
      },
      "execution_count": null,
      "outputs": [
        {
          "output_type": "stream",
          "name": "stdout",
          "text": [
            "enter the first number1\n",
            "enter the second number0\n",
            "division by zero\n",
            "1\n"
          ]
        }
      ]
    },
    {
      "cell_type": "code",
      "source": [
        "#MULTIPLE EXCEPTIONS\n",
        "try:\n",
        "    int1 = int(input(\"Enter the first number: \"))\n",
        "    int2 = int(input(\"Enter the second number: \"))\n",
        "\n",
        "    result = int1 / int2\n",
        "    print(\"Result:\", result)\n",
        "\n",
        "except (ZeroDivisionError, ValueError):\n",
        "    print(\"Error: Invalid input or division by zero\")\n",
        "\n",
        "except NameError:\n",
        "    print(\"Error: Name is not defined\")\n",
        "\n",
        "else:\n",
        "    print(\"No error occurred\")\n",
        "\n",
        "finally:\n",
        "    print(\"Execution complete\")"
      ],
      "metadata": {
        "id": "feYGWSK9Kary"
      },
      "execution_count": null,
      "outputs": []
    },
    {
      "cell_type": "code",
      "source": [
        "#RAISE FUNCTION\n",
        "try:\n",
        "    int1 = int(input(\"Enter the first number: \"))\n",
        "    int2 = int(input(\"Enter the second number: \"))\n",
        "\n",
        "    result = int1 / int2\n",
        "    print(\"Result:\", result)\n",
        "\n",
        "except (ZeroDivisionError, ValueError):\n",
        "    print(\"Error: Invalid input or division by zero\")\n",
        "\n",
        "except NameError:\n",
        "    print(\"Error: Name is not defined\")\n",
        "\n",
        "else:\n",
        "    print(\"No error occurred\")\n",
        "\n",
        "finally:\n",
        "    print(\"Execution complete\")"
      ],
      "metadata": {
        "id": "Fwk8-84sl9SN"
      },
      "execution_count": null,
      "outputs": []
    }
  ]
}