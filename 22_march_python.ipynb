{
  "nbformat": 4,
  "nbformat_minor": 0,
  "metadata": {
    "colab": {
      "provenance": [],
      "authorship_tag": "ABX9TyNg+wIrZwfwzxOuk3xkdikf",
      "include_colab_link": true
    },
    "kernelspec": {
      "name": "python3",
      "display_name": "Python 3"
    },
    "language_info": {
      "name": "python"
    }
  },
  "cells": [
    {
      "cell_type": "markdown",
      "metadata": {
        "id": "view-in-github",
        "colab_type": "text"
      },
      "source": [
        "<a href=\"https://colab.research.google.com/github/rishukr02/rishukr02/blob/main/22_march_python.ipynb\" target=\"_parent\"><img src=\"https://colab.research.google.com/assets/colab-badge.svg\" alt=\"Open In Colab\"/></a>"
      ]
    },
    {
      "cell_type": "code",
      "source": [
        "class Human:\n",
        "    def __init__(self):\n",
        "        print(\"1st is running\")\n",
        "        self.num_eyes = 2\n",
        "        self.num_noses = 3\n",
        "\n",
        "class Male:\n",
        "    def __init__(self, name):\n",
        "        print(\"2nd one is running\")\n",
        "        self.name = name\n",
        "\n",
        "    def work(self):\n",
        "        print(\"I can also work\")\n",
        "\n",
        "    def roll_no(self):\n",
        "        print(\"37 is my roll no\")\n",
        "\n",
        "class Boy(Human, Male):\n",
        "    def __init__(self, name):\n",
        "        super().__init__()\n",
        "        Male.__init__(self, name)\n",
        "        print(\"Boy is created\")\n",
        "\n",
        "    def sleep(self):\n",
        "        print(\"I can sleep\")\n",
        "\n",
        "boy1 = Boy(\"John\")\n",
        "\n",
        "print(boy1.num_noses)\n",
        "print(boy1.num_eyes)\n",
        "boy1.work()\n",
        "boy1.roll_no()\n",
        "boy1.sleep()\n"
      ],
      "metadata": {
        "colab": {
          "base_uri": "https://localhost:8080/"
        },
        "id": "7FerzU45vlMZ",
        "outputId": "64d254f1-4a60-4fcf-ae96-b5ca09c18d55"
      },
      "execution_count": null,
      "outputs": [
        {
          "output_type": "stream",
          "name": "stdout",
          "text": [
            "1st is running\n",
            "2nd one is running\n",
            "Boy is created\n",
            "3\n",
            "2\n",
            "I can also work\n",
            "37 is my roll no\n",
            "I can sleep\n"
          ]
        }
      ]
    }
  ]
}