{
  "nbformat": 4,
  "nbformat_minor": 0,
  "metadata": {
    "colab": {
      "provenance": [],
      "authorship_tag": "ABX9TyMtrpkSstNB+RFsKPqPjrvS",
      "include_colab_link": true
    },
    "kernelspec": {
      "name": "python3",
      "display_name": "Python 3"
    },
    "language_info": {
      "name": "python"
    }
  },
  "cells": [
    {
      "cell_type": "markdown",
      "metadata": {
        "id": "view-in-github",
        "colab_type": "text"
      },
      "source": [
        "<a href=\"https://colab.research.google.com/github/rishukr02/rishukr02/blob/main/23_feb_python.ipynb\" target=\"_parent\"><img src=\"https://colab.research.google.com/assets/colab-badge.svg\" alt=\"Open In Colab\"/></a>"
      ]
    },
    {
      "cell_type": "code",
      "source": [
        "def add (a,b):\n",
        "  c = a+b\n",
        "\n",
        "  return c\n",
        "  result = add(3,4)\n",
        "\n",
        "  print(result)\n"
      ],
      "metadata": {
        "id": "3zLTTM-y-I0m"
      },
      "execution_count": null,
      "outputs": []
    },
    {
      "cell_type": "code",
      "source": [
        "def format_name(f_name, l_name):\n",
        "    x = f_name.title()\n",
        "    y = l_name.title()\n",
        "    print(f\"{x} {y}\")\n",
        "format name('rishu', 'kumar')"
      ],
      "metadata": {
        "colab": {
          "base_uri": "https://localhost:8080/",
          "height": 106
        },
        "id": "5Xn0251f-8_F",
        "outputId": "d33f71c6-09f1-436e-fe37-5c2dc4cfe50e"
      },
      "execution_count": null,
      "outputs": [
        {
          "output_type": "error",
          "ename": "IndentationError",
          "evalue": "unindent does not match any outer indentation level (<tokenize>, line 5)",
          "traceback": [
            "\u001b[0;36m  File \u001b[0;32m\"<tokenize>\"\u001b[0;36m, line \u001b[0;32m5\u001b[0m\n\u001b[0;31m    format name('rishu', 'kumar')\u001b[0m\n\u001b[0m    ^\u001b[0m\n\u001b[0;31mIndentationError\u001b[0m\u001b[0;31m:\u001b[0m unindent does not match any outer indentation level\n"
          ]
        }
      ]
    },
    {
      "cell_type": "code",
      "source": [
        "import statistics\n",
        "def MMM (list1):\n",
        "  return statistics.mean(list1),statistics.median(list1),statistics.mode(list1)\n",
        "  print(\"jilc\")\n",
        "a,b,c= MMM([12,34,45,56,67,43])\n",
        "print(f\"mean is {a}\\nmedian is {b}\\n mode is {c}\")"
      ],
      "metadata": {
        "id": "wo0Ed24UqqIz"
      },
      "execution_count": null,
      "outputs": []
    },
    {
      "cell_type": "code",
      "source": [
        "def add2(a,b):\n",
        "    if a == 0 and b == 0:\n",
        "        return\n",
        "    else:\n",
        "        return a + b\n",
        "x = int(input(\"enter the value of a\"))\n",
        "y = int(input(\"enter the value of b\"))\n",
        "result = add2(x,y)\n",
        "print(result)"
      ],
      "metadata": {
        "colab": {
          "base_uri": "https://localhost:8080/"
        },
        "id": "vDp4KpgMDt7h",
        "outputId": "f6a74085-c8c7-4efa-a3a5-0f1345901e74"
      },
      "execution_count": null,
      "outputs": [
        {
          "output_type": "stream",
          "name": "stdout",
          "text": [
            "enter the value of a2\n",
            "enter the value of b4\n",
            "6\n"
          ]
        }
      ]
    },
    {
      "cell_type": "code",
      "source": [
        "def fun():\n",
        "  a=12\n",
        "  print(a)\n",
        " fun()\n",
        " print(a)"
      ],
      "metadata": {
        "colab": {
          "base_uri": "https://localhost:8080/",
          "height": 106
        },
        "id": "kexfEUJ0DzpW",
        "outputId": "8d4726eb-4c62-4fe0-8083-7b9f99680b72"
      },
      "execution_count": null,
      "outputs": [
        {
          "output_type": "error",
          "ename": "IndentationError",
          "evalue": "unindent does not match any outer indentation level (<tokenize>, line 4)",
          "traceback": [
            "\u001b[0;36m  File \u001b[0;32m\"<tokenize>\"\u001b[0;36m, line \u001b[0;32m4\u001b[0m\n\u001b[0;31m    fun()\u001b[0m\n\u001b[0m    ^\u001b[0m\n\u001b[0;31mIndentationError\u001b[0m\u001b[0;31m:\u001b[0m unindent does not match any outer indentation level\n"
          ]
        }
      ]
    },
    {
      "cell_type": "code",
      "source": [
        "def function1(x):\n",
        " d=x+14\n",
        " return d\n",
        "output=function1(output)\n",
        "print(output)"
      ],
      "metadata": {
        "id": "XDNo0pvIq7vJ"
      },
      "execution_count": null,
      "outputs": []
    },
    {
      "cell_type": "code",
      "source": [
        "b =13 #GLOBAL SPACE\n",
        "def fun12():\n",
        "  global b\n",
        "  b=b+1\n",
        "  f=12\n",
        "  print(b)\n",
        "fun12()"
      ],
      "metadata": {
        "colab": {
          "base_uri": "https://localhost:8080/",
          "height": 106
        },
        "id": "iLI1phUPEcxt",
        "outputId": "b18c72f2-5731-43c4-bd7c-abc55b1bc302"
      },
      "execution_count": null,
      "outputs": [
        {
          "output_type": "error",
          "ename": "IndentationError",
          "evalue": "unindent does not match any outer indentation level (<tokenize>, line 7)",
          "traceback": [
            "\u001b[0;36m  File \u001b[0;32m\"<tokenize>\"\u001b[0;36m, line \u001b[0;32m7\u001b[0m\n\u001b[0;31m    fun12()\u001b[0m\n\u001b[0m    ^\u001b[0m\n\u001b[0;31mIndentationError\u001b[0m\u001b[0;31m:\u001b[0m unindent does not match any outer indentation level\n"
          ]
        }
      ]
    },
    {
      "cell_type": "code",
      "source": [
        "ab=11\n",
        "def display():\n",
        "  ab=111\n",
        "  def show():\n",
        "    print(ab)\n",
        "    show()\n",
        "    display()\n"
      ],
      "metadata": {
        "id": "ZvbvCKfME5Is"
      },
      "execution_count": null,
      "outputs": []
    },
    {
      "cell_type": "code",
      "source": [
        "def DISPLAY():\n",
        "  A=20\n",
        "  def SHOW():\n",
        "   global A\n",
        "   A=31\n",
        "  print(A)\n",
        "  SHOW()\n",
        "  print(A)\n",
        "DISPLAY()\n",
        "print(A)"
      ],
      "metadata": {
        "id": "qnM8eNGmptG9"
      },
      "execution_count": null,
      "outputs": []
    }
  ]
}