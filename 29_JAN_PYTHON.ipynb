{
  "nbformat": 4,
  "nbformat_minor": 0,
  "metadata": {
    "colab": {
      "provenance": [],
      "authorship_tag": "ABX9TyMG/tmbjjlUsy1Cyh7ttPYW",
      "include_colab_link": true
    },
    "kernelspec": {
      "name": "python3",
      "display_name": "Python 3"
    },
    "language_info": {
      "name": "python"
    }
  },
  "cells": [
    {
      "cell_type": "markdown",
      "metadata": {
        "id": "view-in-github",
        "colab_type": "text"
      },
      "source": [
        "<a href=\"https://colab.research.google.com/github/rishukr02/rishukr02/blob/main/29_JAN_PYTHON.ipynb\" target=\"_parent\"><img src=\"https://colab.research.google.com/assets/colab-badge.svg\" alt=\"Open In Colab\"/></a>"
      ]
    },
    {
      "cell_type": "code",
      "source": [
        "age = int(input(\"Enter your age: \"))\n",
        "if age > 18:\n",
        "   print(\"You are an adult.\")\n",
        "else:\n",
        "    print(\"Underage\")"
      ],
      "metadata": {
        "colab": {
          "base_uri": "https://localhost:8080/"
        },
        "id": "P1t1AY85O4KL",
        "outputId": "4a3a8e0e-82a8-4096-91ae-6f8d6898a83d"
      },
      "execution_count": null,
      "outputs": [
        {
          "output_type": "stream",
          "name": "stdout",
          "text": [
            "Enter your age: 16\n",
            "Underage\n"
          ]
        }
      ]
    },
    {
      "cell_type": "code",
      "source": [
        "height=int(input(\"Enter your height\"))\n",
        "age=int(input(\"Enter your age\"))\n",
        "if height>=1.5:\n",
        "  print(\"You can enter\")\n",
        "  if age<=5:\n",
        "    print(\"free to ride\")\n",
        "  elif age<=18:\n",
        "    print(\"You have to pay 500\")\n",
        "  else:\n",
        "      print(\"pay 1000\")"
      ],
      "metadata": {
        "colab": {
          "base_uri": "https://localhost:8080/"
        },
        "id": "_4_NmmIBtYhH",
        "outputId": "41075f9f-0619-4166-e33a-154047f4b3fd"
      },
      "execution_count": null,
      "outputs": [
        {
          "output_type": "stream",
          "name": "stdout",
          "text": [
            "Enter your height7\n",
            "Enter your age70\n",
            "You can enter\n",
            "pay 1000\n"
          ]
        }
      ]
    },
    {
      "cell_type": "code",
      "source": [
        "Number=int(input(\"Enter a number\"))\n",
        "if Number % 2==0:\n",
        "  print(\"It is an even number\")\n",
        "else:\n",
        "  print(\"It is an odd number\")\n",
        "  print(\"Thank you\")"
      ],
      "metadata": {
        "colab": {
          "base_uri": "https://localhost:8080/"
        },
        "id": "nawL-hmDtZ8u",
        "outputId": "4f5d932c-ab46-4396-a125-3135d7293680"
      },
      "execution_count": null,
      "outputs": [
        {
          "output_type": "stream",
          "name": "stdout",
          "text": [
            "Enter a number9\n",
            "It is an odd number\n",
            "Thank you\n"
          ]
        }
      ]
    },
    {
      "cell_type": "code",
      "source": [
        "weight = float(input(\"Enter your weight in kilograms: \"))\n",
        "height = float(input(\"Enter your height in meters: \"))\n",
        "bmi = weight / (height * height)\n",
        "print(\"Your BMI is:\", bmi)\n",
        "if bmi < 18.5:\n",
        "    print(\"You are underweight.\")\n",
        "elif bmi >= 18.5 and bmi < 25:\n",
        "    print(\"You are normal weight.\")\n",
        "elif bmi >= 25 and bmi < 30:\n",
        "    print(\"You are overweight.\")\n",
        "else:\n",
        "    print(\"You are obese.\")"
      ],
      "metadata": {
        "colab": {
          "base_uri": "https://localhost:8080/"
        },
        "id": "KNDluZnmtdv6",
        "outputId": "d392886e-6389-431d-cf37-3f8216dfa645"
      },
      "execution_count": null,
      "outputs": [
        {
          "output_type": "stream",
          "name": "stdout",
          "text": [
            "Enter your weight in kilograms: 65\n",
            "Enter your height in meters: 3\n",
            "Your BMI is: 7.222222222222222\n",
            "You are underweight.\n"
          ]
        }
      ]
    },
    {
      "cell_type": "code",
      "source": [
        "year = int(input(\"Enter a year: \"))\n",
        "if year % 400 == 0:\n",
        "  print(\"It is a leap year.\")\n",
        "elif year % 100 == 0:\n",
        "  print(\"It is not a leap year.\")\n",
        "elif year % 4 == 0:\n",
        "  print(\"It is a leap year.\")\n",
        "else:\n",
        "  print(\"It is not a leap year.\")"
      ],
      "metadata": {
        "colab": {
          "base_uri": "https://localhost:8080/"
        },
        "id": "pSGNbItktlfj",
        "outputId": "611f0969-a406-417c-fe96-d7715613cc69"
      },
      "execution_count": null,
      "outputs": [
        {
          "output_type": "stream",
          "name": "stdout",
          "text": [
            "Enter a year: 45\n",
            "It is not a leap year.\n"
          ]
        }
      ]
    }
  ]
}