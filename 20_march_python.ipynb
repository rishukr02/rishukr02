{
  "nbformat": 4,
  "nbformat_minor": 0,
  "metadata": {
    "colab": {
      "provenance": [],
      "authorship_tag": "ABX9TyO5Nz5qNxrAwyeqfYHt/pD4",
      "include_colab_link": true
    },
    "kernelspec": {
      "name": "python3",
      "display_name": "Python 3"
    },
    "language_info": {
      "name": "python"
    }
  },
  "cells": [
    {
      "cell_type": "markdown",
      "metadata": {
        "id": "view-in-github",
        "colab_type": "text"
      },
      "source": [
        "<a href=\"https://colab.research.google.com/github/rishukr02/rishukr02/blob/main/20_march_python.ipynb\" target=\"_parent\"><img src=\"https://colab.research.google.com/assets/colab-badge.svg\" alt=\"Open In Colab\"/></a>"
      ]
    },
    {
      "cell_type": "code",
      "source": [
        "class instructor:\n",
        "  def __init__(self, name, address):\n",
        "    self.name = name\n",
        "    self.address = address\n",
        "\n",
        "instructor1 = instructor(\"rishi\", \"upes\")\n",
        "print(instructor1.name)\n"
      ],
      "metadata": {
        "colab": {
          "base_uri": "https://localhost:8080/"
        },
        "id": "6dqF95lpaoZt",
        "outputId": "89658055-b7f2-445f-ac55-59ab2473565b"
      },
      "execution_count": null,
      "outputs": [
        {
          "output_type": "stream",
          "name": "stdout",
          "text": [
            "rishi\n"
          ]
        }
      ]
    },
    {
      "cell_type": "code",
      "source": [
        "class instructorinfo:\n",
        "    followers = 0\n",
        "    def __init__(self, name, address):\n",
        "       self.name = name\n",
        "       self.address = address\n",
        "\n",
        "    def display(self):\n",
        "        print(\"hi\")\n",
        "\n",
        "instructor11 = instructorinfo(\"rishi\",\"upes\")\n",
        "print(instructor11.name)\n",
        "instructor11.display()\n",
        "print(instructor11.display())"
      ],
      "metadata": {
        "colab": {
          "base_uri": "https://localhost:8080/"
        },
        "id": "pr6K70TibRn2",
        "outputId": "e9d693c9-d35f-45d8-9a83-967ff56f7328"
      },
      "execution_count": null,
      "outputs": [
        {
          "output_type": "stream",
          "name": "stdout",
          "text": [
            "rishi\n",
            "hi\n",
            "hi\n",
            "None\n"
          ]
        }
      ]
    },
    {
      "cell_type": "code",
      "source": [
        "class instructorinfo:\n",
        "    followers = 0\n",
        "    def __init__(self, name, address):\n",
        "       self.name = name\n",
        "       self.address = address\n",
        "\n",
        "    def display(self,subject):\n",
        "        print(f\"hi am (self.name) and i am teaching (subject) \")\n",
        "    def update_followers(self,f_name):\n",
        "        self.followers += 1\n",
        "\n",
        "instructor11 = instructorinfo(\"rishi\",\"upes\")\n",
        "print(instructor11.name)\n",
        "instructor11.display(\"python\")"
      ],
      "metadata": {
        "colab": {
          "base_uri": "https://localhost:8080/"
        },
        "id": "qiu35LF_dIog",
        "outputId": "b711294c-b765-4dae-9a97-f93b7e5ff6d1"
      },
      "execution_count": null,
      "outputs": [
        {
          "output_type": "stream",
          "name": "stdout",
          "text": [
            "rishi\n",
            "hi am (self.name) and i am teaching (subject) \n"
          ]
        }
      ]
    },
    {
      "cell_type": "code",
      "source": [
        "class Circle:\n",
        "    def __init__(self, radius):\n",
        "        self.radius = radius\n",
        "\n",
        "    def circumference(self):\n",
        "        return 2 * 3.14 * self.radius\n",
        "\n",
        "circle1 = Circle(8)\n",
        "print(circle1.circumference())\n"
      ],
      "metadata": {
        "colab": {
          "base_uri": "https://localhost:8080/"
        },
        "id": "0TstrJZjfK3s",
        "outputId": "fb26c150-327f-4f30-97ca-4fe9d31b66c2"
      },
      "execution_count": null,
      "outputs": [
        {
          "output_type": "stream",
          "name": "stdout",
          "text": [
            "50.24\n"
          ]
        }
      ]
    },
    {
      "cell_type": "code",
      "source": [
        "class human:\n",
        "  def eat(self):\n",
        "    print(\"i can eat\")\n",
        "  def work(self):\n",
        "    pass\n",
        "print(\"i can work\")"
      ],
      "metadata": {
        "colab": {
          "base_uri": "https://localhost:8080/"
        },
        "id": "bgK7I-j1oDjz",
        "outputId": "16e1d583-46f8-42ed-c3db-00e3bd1cdfa3"
      },
      "execution_count": null,
      "outputs": [
        {
          "output_type": "stream",
          "name": "stdout",
          "text": [
            "i can work\n"
          ]
        }
      ]
    },
    {
      "cell_type": "code",
      "source": [
        "class human:\n",
        "  def eat(self):\n",
        "    print(\"i can eat\")\n",
        "  def work(self):\n",
        "    print(\"i can work\")\n",
        "class male(human):\n",
        "  def work(self):\n",
        "    super().work()\n",
        "print(\"i can code also\")\n"
      ],
      "metadata": {
        "colab": {
          "base_uri": "https://localhost:8080/"
        },
        "id": "bLTzOvGjkOco",
        "outputId": "d4474065-e8a7-430e-a58c-74afc947f6df"
      },
      "execution_count": null,
      "outputs": [
        {
          "output_type": "stream",
          "name": "stdout",
          "text": [
            "i can code also\n"
          ]
        }
      ]
    },
    {
      "cell_type": "code",
      "source": [
        "class Student:\n",
        "    def __init__(self, name, marks):\n",
        "        self.name = name\n",
        "        self.marks = marks\n",
        "\n",
        "    def calculate_average(self):\n",
        "        total_marks = sum(self.marks)\n",
        "        average = total_marks / len(self.marks)\n",
        "        return average\n",
        "\n",
        "students = [\n",
        "    Student(\"rohit\", [90, 85, 95]),\n",
        "    Student(\"kohli\", [80, 90, 85]),\n",
        "    Student(\"dhoni\", [75, 80, 90])\n",
        "]\n",
        "\n",
        "for student in students:\n",
        "    average = student.calculate_average()\n",
        "    print(f\"{student.name}'s average: {average}\")\n"
      ],
      "metadata": {
        "colab": {
          "base_uri": "https://localhost:8080/"
        },
        "id": "KrVh7zfwrG45",
        "outputId": "3160b6de-0389-444a-d9ab-37336d7a0064"
      },
      "execution_count": null,
      "outputs": [
        {
          "output_type": "stream",
          "name": "stdout",
          "text": [
            "rohit's average: 90.0\n",
            "kohli's average: 85.0\n",
            "dhoni's average: 81.66666666666667\n"
          ]
        }
      ]
    }
  ]
}