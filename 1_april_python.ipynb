{
  "nbformat": 4,
  "nbformat_minor": 0,
  "metadata": {
    "colab": {
      "provenance": [],
      "authorship_tag": "ABX9TyMgTTT+1Nbvs5gVpsBL6D41",
      "include_colab_link": true
    },
    "kernelspec": {
      "name": "python3",
      "display_name": "Python 3"
    },
    "language_info": {
      "name": "python"
    }
  },
  "cells": [
    {
      "cell_type": "markdown",
      "metadata": {
        "id": "view-in-github",
        "colab_type": "text"
      },
      "source": [
        "<a href=\"https://colab.research.google.com/github/rishukr02/rishukr02/blob/main/1_april_python.ipynb\" target=\"_parent\"><img src=\"https://colab.research.google.com/assets/colab-badge.svg\" alt=\"Open In Colab\"/></a>"
      ]
    },
    {
      "cell_type": "code",
      "execution_count": null,
      "metadata": {
        "colab": {
          "base_uri": "https://localhost:8080/"
        },
        "id": "4Q0SQzG3m4i2",
        "outputId": "1b4c1819-fb15-43fc-9988-7451018b5c55"
      },
      "outputs": [
        {
          "output_type": "stream",
          "name": "stdout",
          "text": [
            "Car started\n"
          ]
        }
      ],
      "source": [
        "class Car:\n",
        "    def _init_(self):\n",
        "        self.break_pedal = False\n",
        "        self.clutch_pedal = False\n",
        "        self.key_inserted = False\n",
        "\n",
        "    def start(self):\n",
        "        if self.break_pedal and self.clutch_pedal and self.key_inserted:\n",
        "            print(\"Car started\")\n",
        "        else:\n",
        "            print(\"Cannot start the car. Make sure break pedal, clutch pedal, and key are engaged.\")\n",
        "my_car = Car()\n",
        "my_car.break_pedal = True\n",
        "my_car.clutch_pedal = True\n",
        "my_car.key_inserted = True\n",
        "\n",
        "my_car.start()"
      ]
    },
    {
      "cell_type": "code",
      "source": [],
      "metadata": {
        "id": "0k0WR3B4zXwX"
      },
      "execution_count": null,
      "outputs": []
    },
    {
      "cell_type": "code",
      "source": [
        "class Student:\n",
        "    def __init__(self, name, age, phone):\n",
        "        self.name = name\n",
        "        self.age = age\n",
        "        self._phoneno = phone #underscore for making private\n",
        "\n",
        "    def display(self):\n",
        "        print(f\"My name is {self.name} and my age is {self.age}\")\n",
        "\n",
        "s1 = Student(\"rishi\", 20, \"35607\")\n",
        "s1.display()\n",
        "print(s1._phoneno)\n"
      ],
      "metadata": {
        "colab": {
          "base_uri": "https://localhost:8080/"
        },
        "id": "aTCwk3aks1rV",
        "outputId": "408f74ed-ef49-451f-dccd-12a31e6dbe96"
      },
      "execution_count": null,
      "outputs": [
        {
          "output_type": "stream",
          "name": "stdout",
          "text": [
            "My name is rishi and my age is 20\n",
            "35607\n"
          ]
        }
      ]
    },
    {
      "cell_type": "code",
      "source": [
        "class Student:\n",
        "    def __init__(self, name, age, phno):\n",
        "        self.name = name\n",
        "        self.age = age\n",
        "        self.__phno = phno\n",
        "\n",
        "    def __display(self):  # private kr rhe h\n",
        "        print(f\"My name is {self.name} and my age is {self.age}\")\n",
        "        print(f\"My phone number is {self.__phno}\")\n",
        "\n",
        "    def show(self):\n",
        "        self.__display()\n",
        "\n",
        "s1 = Student(\"rishi\", 19, 3561)\n",
        "s1.show()\n"
      ],
      "metadata": {
        "colab": {
          "base_uri": "https://localhost:8080/"
        },
        "id": "88Md5IaWs-Us",
        "outputId": "ed7d6aa6-8a5a-499b-a77d-ae49f166b580"
      },
      "execution_count": null,
      "outputs": [
        {
          "output_type": "stream",
          "name": "stdout",
          "text": [
            "My name is rishi and my age is 19\n",
            "My phone number is 3561\n"
          ]
        }
      ]
    },
    {
      "cell_type": "code",
      "source": [
        "#polymorphism\n",
        "print(1+2)\n",
        "print(\"hello\"+\"world\")\n",
        "print([1,2,3]+[4,5,6])"
      ],
      "metadata": {
        "colab": {
          "base_uri": "https://localhost:8080/"
        },
        "id": "Mcvqqjuivqod",
        "outputId": "641e8196-4ca3-4edd-e2e9-8d02830e83b6"
      },
      "execution_count": null,
      "outputs": [
        {
          "output_type": "stream",
          "name": "stdout",
          "text": [
            "3\n",
            "helloworld\n",
            "[1, 2, 3, 4, 5, 6]\n"
          ]
        }
      ]
    },
    {
      "cell_type": "code",
      "source": [
        "class Complex:\n",
        "    def _init_(self, real, imag):\n",
        "        self.real = real\n",
        "        self.imag = imag\n",
        "    def show (self):\n",
        "      print(self.real,\"i+\",self.imag)\n",
        "\n"
      ],
      "metadata": {
        "id": "RkXj0JukzAbf"
      },
      "execution_count": null,
      "outputs": []
    },
    {
      "cell_type": "code",
      "source": [
        "class Complex:\n",
        "    def __init__(self, real, imag):\n",
        "        self.real = real\n",
        "        self.imag = imag\n",
        "\n",
        "    def show(self):\n",
        "        print(self.real, \"i +\", self.imag, \"j\")\n",
        "\n",
        "    def __add__(self, num):\n",
        "        n_real = self.real + num.real\n",
        "        n_imag = self.imag + num.imag\n",
        "        return Complex(n_real, n_imag)\n",
        "\n",
        "num1 = Complex(3, 2)\n",
        "num2 = Complex(7, 5)\n",
        "num1.show()\n",
        "num2.show()\n",
        "\n",
        "result = num1 + num2\n",
        "result.show()\n"
      ],
      "metadata": {
        "colab": {
          "base_uri": "https://localhost:8080/"
        },
        "id": "H5kCj4zl0lUn",
        "outputId": "1318c0ab-663a-4691-b4d2-2a9163aaf3f2"
      },
      "execution_count": null,
      "outputs": [
        {
          "output_type": "stream",
          "name": "stdout",
          "text": [
            "3 i + 2 j\n",
            "7 i + 5 j\n",
            "10 i + 7 j\n"
          ]
        }
      ]
    },
    {
      "cell_type": "code",
      "source": [
        "#CLASS METHODS - static method , class method , instance method\n",
        "def details()\n",
        "    print(\"i drive\")"
      ],
      "metadata": {
        "id": "ubKbOlcL1bfV"
      },
      "execution_count": null,
      "outputs": []
    },
    {
      "cell_type": "code",
      "source": [
        "\n"
      ],
      "metadata": {
        "id": "_Xk-4p9j5aoB"
      },
      "execution_count": null,
      "outputs": []
    }
  ]
}