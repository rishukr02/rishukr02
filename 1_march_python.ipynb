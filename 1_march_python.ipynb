{
  "nbformat": 4,
  "nbformat_minor": 0,
  "metadata": {
    "colab": {
      "provenance": [],
      "authorship_tag": "ABX9TyMxJ0C2xkuKzvwtUst85Yge",
      "include_colab_link": true
    },
    "kernelspec": {
      "name": "python3",
      "display_name": "Python 3"
    },
    "language_info": {
      "name": "python"
    }
  },
  "cells": [
    {
      "cell_type": "markdown",
      "metadata": {
        "id": "view-in-github",
        "colab_type": "text"
      },
      "source": [
        "<a href=\"https://colab.research.google.com/github/rishukr02/rishukr02/blob/main/1_march_python.ipynb\" target=\"_parent\"><img src=\"https://colab.research.google.com/assets/colab-badge.svg\" alt=\"Open In Colab\"/></a>"
      ]
    },
    {
      "cell_type": "code",
      "execution_count": null,
      "metadata": {
        "colab": {
          "base_uri": "https://localhost:8080/"
        },
        "id": "i-z3lMB69YQu",
        "outputId": "5349355b-1b3f-485e-b2eb-3ecae69f71aa"
      },
      "outputs": [
        {
          "output_type": "stream",
          "name": "stdout",
          "text": [
            "spring\n",
            "fall\n",
            "winter\n",
            "summer\n"
          ]
        }
      ],
      "source": [
        "seasons =[\"spring\",\"fall\",\"winter\",\"summer\"]\n",
        "for season in seasons:\n",
        " print(season)"
      ]
    },
    {
      "cell_type": "code",
      "source": [
        "count = 0\n",
        "for season in seasons:\n",
        "  print(season,count)\n",
        "  count+=1"
      ],
      "metadata": {
        "colab": {
          "base_uri": "https://localhost:8080/"
        },
        "id": "LnBHqy7x-Ezl",
        "outputId": "6a11ae86-c5c3-4d0d-aee8-7665beaffb59"
      },
      "execution_count": null,
      "outputs": [
        {
          "output_type": "stream",
          "name": "stdout",
          "text": [
            "spring 0\n",
            "fall 1\n",
            "winter 2\n",
            "summer 3\n"
          ]
        }
      ]
    },
    {
      "cell_type": "code",
      "source": [
        "for cool,seasons in enumerate (seasons):\n",
        "  print(cool,season)"
      ],
      "metadata": {
        "colab": {
          "base_uri": "https://localhost:8080/"
        },
        "id": "m6gdCaW5-UWV",
        "outputId": "1ca3cfc6-9e3e-4c9e-f028-9baa1cf4cf87"
      },
      "execution_count": null,
      "outputs": [
        {
          "output_type": "stream",
          "name": "stdout",
          "text": [
            "0 summer\n",
            "1 summer\n",
            "2 summer\n",
            "3 summer\n"
          ]
        }
      ]
    },
    {
      "cell_type": "code",
      "source": [
        "#Recursion\n",
        "def fact(n):\n",
        "  if n==1:\n",
        "   return 1\n",
        "  else:\n",
        "    return n* fact(n-1)\n",
        "  print(fact(500))\n"
      ],
      "metadata": {
        "id": "0vUP3jGj-osk"
      },
      "execution_count": null,
      "outputs": []
    },
    {
      "cell_type": "code",
      "source": [
        "def fact(n):\n",
        "  if n==1:\n",
        "   return 1\n",
        "  else:\n",
        "    return n* fact(n-1)\n",
        "x = int(input(\"enter the number\"))\n",
        "print(fact(x))"
      ],
      "metadata": {
        "colab": {
          "base_uri": "https://localhost:8080/"
        },
        "id": "xoOB4DNvAVVz",
        "outputId": "576e42b5-8617-40eb-c4fe-a7c7a07ef216"
      },
      "execution_count": null,
      "outputs": [
        {
          "output_type": "stream",
          "name": "stdout",
          "text": [
            "enter the number5\n",
            "120\n"
          ]
        }
      ]
    },
    {
      "cell_type": "code",
      "source": [
        "import sys\n",
        "sys.getrecursionlimit()"
      ],
      "metadata": {
        "colab": {
          "base_uri": "https://localhost:8080/"
        },
        "id": "2r9B-jMMCF62",
        "outputId": "243360dc-f6e7-463e-a6d6-ba97ff24ccd4"
      },
      "execution_count": null,
      "outputs": [
        {
          "output_type": "execute_result",
          "data": {
            "text/plain": [
              "1000"
            ]
          },
          "metadata": {},
          "execution_count": 15
        }
      ]
    },
    {
      "cell_type": "code",
      "source": [
        "def gcd(x,y):\n",
        "  rem = x % y\n",
        "  if rem ==0:\n",
        "    return y\n",
        "  else:\n",
        "    return gcd(y,rem)\n",
        "    x = int(input(\"enter the first number\"))\n",
        "    y = int(input(\"enter the second number \"))\n",
        "     print(\"gcd is\",gcd(x,y))\n",
        "\n",
        "\n",
        "\n",
        "\n"
      ],
      "metadata": {
        "colab": {
          "base_uri": "https://localhost:8080/",
          "height": 106
        },
        "id": "MjIYmiyiAo4g",
        "outputId": "2281fb93-a53c-46ae-9c6c-416258fc5114"
      },
      "execution_count": null,
      "outputs": [
        {
          "output_type": "error",
          "ename": "IndentationError",
          "evalue": "unexpected indent (<ipython-input-32-63dd0ce42316>, line 9)",
          "traceback": [
            "\u001b[0;36m  File \u001b[0;32m\"<ipython-input-32-63dd0ce42316>\"\u001b[0;36m, line \u001b[0;32m9\u001b[0m\n\u001b[0;31m    print(\"gcd is\",gcd(x,y))\u001b[0m\n\u001b[0m    ^\u001b[0m\n\u001b[0;31mIndentationError\u001b[0m\u001b[0;31m:\u001b[0m unexpected indent\n"
          ]
        }
      ]
    },
    {
      "cell_type": "code",
      "source": [
        "def fib(n):\n",
        "  if n<2 :\n",
        "    return n\n",
        "  else:\n",
        "    return fib (n-1) + fib(n-2)\n",
        "n = int(input(\"enter the no of terms\"))\n",
        "for i in range(n):\n",
        " print(fib(i))"
      ],
      "metadata": {
        "colab": {
          "base_uri": "https://localhost:8080/"
        },
        "id": "qF1B2lqUF5oh",
        "outputId": "f8fb3e0e-2185-42f5-c321-5bb4ec6689f9"
      },
      "execution_count": null,
      "outputs": [
        {
          "output_type": "stream",
          "name": "stdout",
          "text": [
            "enter the no of terms2\n",
            "0\n",
            "1\n"
          ]
        }
      ]
    },
    {
      "cell_type": "code",
      "source": [
        " import math\n",
        " list1 = [12,34,45]\n",
        " math.prod(list1)"
      ],
      "metadata": {
        "colab": {
          "base_uri": "https://localhost:8080/"
        },
        "id": "xVjDoXygDSJN",
        "outputId": "7887f344-d1e6-4557-a199-c5735d5334d8"
      },
      "execution_count": null,
      "outputs": [
        {
          "output_type": "execute_result",
          "data": {
            "text/plain": [
              "18360"
            ]
          },
          "metadata": {},
          "execution_count": 31
        }
      ]
    },
    {
      "cell_type": "code",
      "source": [
        "import statistics\n",
        "help (\"statistics\")"
      ],
      "metadata": {
        "id": "TxeOePHVIl8-"
      },
      "execution_count": null,
      "outputs": []
    },
    {
      "cell_type": "code",
      "source": [
        "list1 = [12,34,45,56,67,78]\n",
        "print(statistics.stdev(list1))\n"
      ],
      "metadata": {
        "colab": {
          "base_uri": "https://localhost:8080/"
        },
        "id": "qxM-IOuNJg-h",
        "outputId": "d932f0b9-4f43-4e1d-ffe8-d66f56d7aaca"
      },
      "execution_count": null,
      "outputs": [
        {
          "output_type": "stream",
          "name": "stdout",
          "text": [
            "23.762715894162152\n"
          ]
        }
      ]
    },
    {
      "cell_type": "code",
      "source": [
        "a = 3\n",
        "id(a)"
      ],
      "metadata": {
        "colab": {
          "base_uri": "https://localhost:8080/"
        },
        "id": "flpbNY9cJ0R6",
        "outputId": "d259dab4-bf4a-4e02-ad57-a61f46ae0d87"
      },
      "execution_count": null,
      "outputs": [
        {
          "output_type": "execute_result",
          "data": {
            "text/plain": [
              "140495494332720"
            ]
          },
          "metadata": {},
          "execution_count": 35
        }
      ]
    },
    {
      "cell_type": "code",
      "source": [
        "import pandas as pd\n"
      ],
      "metadata": {
        "id": "IwAF-u1qJ7Zo"
      },
      "execution_count": null,
      "outputs": []
    },
    {
      "cell_type": "code",
      "source": [
        "import matplotlib.pyplot as plt"
      ],
      "metadata": {
        "id": "vD7SzgHEKul4"
      },
      "execution_count": null,
      "outputs": []
    },
    {
      "cell_type": "code",
      "source": [
        "import numpy as np\n"
      ],
      "metadata": {
        "id": "QZC6bKHcK2rc"
      },
      "execution_count": null,
      "outputs": []
    },
    {
      "cell_type": "code",
      "source": [
        "import pickle"
      ],
      "metadata": {
        "id": "3euIy7CLLAOh"
      },
      "execution_count": null,
      "outputs": []
    }
  ]
}