{
  "nbformat": 4,
  "nbformat_minor": 0,
  "metadata": {
    "colab": {
      "provenance": [],
      "authorship_tag": "ABX9TyN39PHjLis/U1GQjUnWAwlY",
      "include_colab_link": true
    },
    "kernelspec": {
      "name": "python3",
      "display_name": "Python 3"
    },
    "language_info": {
      "name": "python"
    }
  },
  "cells": [
    {
      "cell_type": "markdown",
      "metadata": {
        "id": "view-in-github",
        "colab_type": "text"
      },
      "source": [
        "<a href=\"https://colab.research.google.com/github/rishukr02/rishukr02/blob/main/OOP_18_march_python.ipynb\" target=\"_parent\"><img src=\"https://colab.research.google.com/assets/colab-badge.svg\" alt=\"Open In Colab\"/></a>"
      ]
    },
    {
      "cell_type": "code",
      "execution_count": null,
      "metadata": {
        "colab": {
          "base_uri": "https://localhost:8080/"
        },
        "id": "IKOdRlLmhAoo",
        "outputId": "7b20a874-4e90-4582-803a-c246d93f470f"
      },
      "outputs": [
        {
          "output_type": "stream",
          "name": "stdout",
          "text": [
            "creating new object\n"
          ]
        }
      ],
      "source": [
        "class instructorinfo:\n",
        "    print(\"creating new object\")\n",
        "\n",
        "python = instructorinfo()\n"
      ]
    },
    {
      "cell_type": "code",
      "source": [
        "a= 10\n",
        "print(type(a))\n"
      ],
      "metadata": {
        "colab": {
          "base_uri": "https://localhost:8080/"
        },
        "id": "Xi0RiinIg2ym",
        "outputId": "98212aff-d402-4d0c-9844-07f801e0b34b"
      },
      "execution_count": null,
      "outputs": [
        {
          "output_type": "stream",
          "name": "stdout",
          "text": [
            "<class 'int'>\n"
          ]
        }
      ]
    },
    {
      "cell_type": "code",
      "source": [
        "# class above is an blueprint of an object"
      ],
      "metadata": {
        "id": "wpSEiIAThLNO"
      },
      "execution_count": null,
      "outputs": []
    },
    {
      "cell_type": "code",
      "source": [
        "print(type(python))"
      ],
      "metadata": {
        "colab": {
          "base_uri": "https://localhost:8080/"
        },
        "id": "342ajeGzlQLC",
        "outputId": "737dd7fd-f52e-4202-8c5f-93cb24bf0547"
      },
      "execution_count": null,
      "outputs": [
        {
          "output_type": "stream",
          "name": "stdout",
          "text": [
            "<class '__main__.instructorinfo'>\n"
          ]
        }
      ]
    },
    {
      "cell_type": "code",
      "source": [
        "python.name = \"rishu\"\n",
        "python.address = \"upes\""
      ],
      "metadata": {
        "id": "bAkZYbNplkOc"
      },
      "execution_count": null,
      "outputs": []
    },
    {
      "cell_type": "code",
      "source": [
        "print(python.name)"
      ],
      "metadata": {
        "colab": {
          "base_uri": "https://localhost:8080/"
        },
        "id": "TDjLQV0amO6r",
        "outputId": "b735df4e-702a-4b19-c224-647a5bd3f17c"
      },
      "execution_count": null,
      "outputs": [
        {
          "output_type": "stream",
          "name": "stdout",
          "text": [
            "rishu\n"
          ]
        }
      ]
    },
    {
      "cell_type": "code",
      "source": [
        "java=InstructorInfo:\n",
        "Java.name=\"Kumar\"\n",
        "Java.address=\"UPES\""
      ],
      "metadata": {
        "colab": {
          "base_uri": "https://localhost:8080/",
          "height": 106
        },
        "id": "7KjhkxN_jGTX",
        "outputId": "44f8d676-d1b9-4afd-b84c-92034fee6dbb"
      },
      "execution_count": null,
      "outputs": [
        {
          "output_type": "error",
          "ename": "SyntaxError",
          "evalue": "invalid syntax (<ipython-input-5-3cd2861943de>, line 1)",
          "traceback": [
            "\u001b[0;36m  File \u001b[0;32m\"<ipython-input-5-3cd2861943de>\"\u001b[0;36m, line \u001b[0;32m1\u001b[0m\n\u001b[0;31m    java=InstructorInfo:\u001b[0m\n\u001b[0m                       ^\u001b[0m\n\u001b[0;31mSyntaxError\u001b[0m\u001b[0;31m:\u001b[0m invalid syntax\n"
          ]
        }
      ]
    },
    {
      "cell_type": "code",
      "source": [
        "class instructor:\n",
        "  def __init__(self,instructor_name,address):\n",
        "     self.name = instructor_name\n",
        "     self.address = address\n",
        "\n",
        "instructor1 = instructor(\"rishu\",\"upes\")\n",
        "print(instructor1.name)"
      ],
      "metadata": {
        "colab": {
          "base_uri": "https://localhost:8080/"
        },
        "id": "PwAnhDRumWms",
        "outputId": "58732e90-2089-455e-fce9-e9c00ef8a621"
      },
      "execution_count": null,
      "outputs": [
        {
          "output_type": "stream",
          "name": "stdout",
          "text": [
            "rishu\n"
          ]
        }
      ]
    },
    {
      "cell_type": "code",
      "source": [
        "instructor2 = instructor(\"aryan\",\"upes\")\n",
        "print(instructor2.address)"
      ],
      "metadata": {
        "colab": {
          "base_uri": "https://localhost:8080/"
        },
        "id": "zeZKLIdsoRoO",
        "outputId": "cb9e6fe8-7212-4c9c-cac4-0e3402628ebd"
      },
      "execution_count": null,
      "outputs": [
        {
          "output_type": "stream",
          "name": "stdout",
          "text": [
            "upes\n"
          ]
        }
      ]
    },
    {
      "cell_type": "code",
      "source": [
        "class Manager:\n",
        "    def __init__(self, name, subject):\n",
        "        self.name = name\n",
        "        self.subject = subject\n",
        "\n",
        "    def take_exams(self):\n",
        "        print(f\"{self.name} is taking exams for {self.subject}\")\n",
        "\n",
        "    def take_viva(self):\n",
        "        print(f\"{self.name} is taking viva for {self.subject}\")\n",
        "\n",
        "    def give_marks(self):\n",
        "        print(f\"{self.name} is giving marks for {self.subject}\")\n",
        "\n",
        "python_instructor = Manager(\"rishu\", \"Python\")\n",
        "java_instructor = Manager(\"Kumar\", \"Java\")\n",
        "cpp_instructor = Manager(\"Singh\", \"C++\")\n",
        "\n",
        "python_instructor.take_exams()\n",
        "python_instructor.take_viva()\n",
        "python_instructor.give_marks()\n",
        "\n",
        "java_instructor.take_exams()\n",
        "java_instructor.take_viva()\n",
        "java_instructor.give_marks()\n",
        "\n",
        "cpp_instructor.take_exams()\n",
        "cpp_instructor.take_viva()\n",
        "cpp_instructor.give_marks()"
      ],
      "metadata": {
        "colab": {
          "base_uri": "https://localhost:8080/"
        },
        "id": "AGPJqUtckQH1",
        "outputId": "357afbd1-2d8e-4a02-bd28-ba3090bad664"
      },
      "execution_count": null,
      "outputs": [
        {
          "output_type": "stream",
          "name": "stdout",
          "text": [
            "rishu is taking exams for Python\n",
            "rishu is taking viva for Python\n",
            "rishu is giving marks for Python\n",
            "Kumar is taking exams for Java\n",
            "Kumar is taking viva for Java\n",
            "Kumar is giving marks for Java\n",
            "Singh is taking exams for C++\n",
            "Singh is taking viva for C++\n",
            "Singh is giving marks for C++\n"
          ]
        }
      ]
    }
  ]
}