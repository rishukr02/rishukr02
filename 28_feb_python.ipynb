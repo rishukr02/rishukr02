{
  "nbformat": 4,
  "nbformat_minor": 0,
  "metadata": {
    "colab": {
      "provenance": [],
      "authorship_tag": "ABX9TyO0F8+eC5wvYBSLxsUOnfpP",
      "include_colab_link": true
    },
    "kernelspec": {
      "name": "python3",
      "display_name": "Python 3"
    },
    "language_info": {
      "name": "python"
    }
  },
  "cells": [
    {
      "cell_type": "markdown",
      "metadata": {
        "id": "view-in-github",
        "colab_type": "text"
      },
      "source": [
        "<a href=\"https://colab.research.google.com/github/rishukr02/rishukr02/blob/main/28_feb_python.ipynb\" target=\"_parent\"><img src=\"https://colab.research.google.com/assets/colab-badge.svg\" alt=\"Open In Colab\"/></a>"
      ]
    },
    {
      "cell_type": "code",
      "source": [
        "def display():\n",
        "  for i in range(1,11):\n",
        "    if i==10:\n",
        "      print(\"bye!\")\n",
        "      display()"
      ],
      "metadata": {
        "id": "NRK_vwLSVbqR"
      },
      "execution_count": null,
      "outputs": []
    },
    {
      "cell_type": "code",
      "execution_count": null,
      "metadata": {
        "colab": {
          "base_uri": "https://localhost:8080/"
        },
        "id": "MV7NShk0VT7W",
        "outputId": "f5d2bdf9-6fe5-4c2e-8307-6f9573bebfd3"
      },
      "outputs": [
        {
          "output_type": "stream",
          "name": "stdout",
          "text": [
            "['one', 'two', 'three', 'five', 'six', 'seven']\n"
          ]
        }
      ],
      "source": [
        "import random\n",
        "dice_number=[\"one\",\"two\",\"three\",\"five\",\"six\",\"seven\"]\n",
        "dice_num=random.randint(0,5)\n",
        "print(dice_number)\n"
      ]
    },
    {
      "cell_type": "code",
      "source": [
        "#LAMDA FUNCTION\n",
        "def double(x):\n",
        "  return x^2\n",
        "print(double(5))"
      ],
      "metadata": {
        "colab": {
          "base_uri": "https://localhost:8080/"
        },
        "id": "oMe7DWGpWgWn",
        "outputId": "22484d9d-59e1-4a8f-d52a-e4569a430c08"
      },
      "execution_count": null,
      "outputs": [
        {
          "output_type": "stream",
          "name": "stdout",
          "text": [
            "7\n"
          ]
        }
      ]
    },
    {
      "cell_type": "code",
      "source": [
        "cube = lambda y:y*y*y\n",
        "print(cube(3))\n"
      ],
      "metadata": {
        "colab": {
          "base_uri": "https://localhost:8080/"
        },
        "id": "xkxB0uM2XJ9x",
        "outputId": "37ee4900-1477-4a84-c8f5-f0cb123053df"
      },
      "execution_count": null,
      "outputs": [
        {
          "output_type": "stream",
          "name": "stdout",
          "text": [
            "27\n"
          ]
        }
      ]
    },
    {
      "cell_type": "code",
      "source": [
        "def apply(fx,value):\n",
        "  return 6+ fx(value)\n",
        "print(apply (cube,2))"
      ],
      "metadata": {
        "colab": {
          "base_uri": "https://localhost:8080/"
        },
        "id": "DEaPGXDEXinm",
        "outputId": "568a8824-bf6f-42fb-b465-8e024bf73a23"
      },
      "execution_count": null,
      "outputs": [
        {
          "output_type": "stream",
          "name": "stdout",
          "text": [
            "14\n"
          ]
        }
      ]
    },
    {
      "cell_type": "code",
      "source": [
        "numbers = [11,20,21,24]\n",
        "def even(x):\n",
        "  return x%2==0\n",
        "evens=list(filter(even,numbers))\n",
        "print(\"even numbers\",evens)"
      ],
      "metadata": {
        "colab": {
          "base_uri": "https://localhost:8080/"
        },
        "id": "664REpdqo1KI",
        "outputId": "691d41d9-3bfa-4558-8bf3-0188dc8904b9"
      },
      "execution_count": null,
      "outputs": [
        {
          "output_type": "stream",
          "name": "stdout",
          "text": [
            "even numbers [20, 24]\n"
          ]
        }
      ]
    },
    {
      "cell_type": "code",
      "source": [
        "numbers = [11,20,21,24]\n",
        "def even(x):\n",
        "  return x % 2==0\n",
        "evens = list(filter(even,numbers))\n",
        "print(\"even numbers\",evens)"
      ],
      "metadata": {
        "colab": {
          "base_uri": "https://localhost:8080/"
        },
        "id": "oLRiM7frX_Yn",
        "outputId": "15da2ee3-2646-420c-a664-5bca666f894a"
      },
      "execution_count": null,
      "outputs": [
        {
          "output_type": "stream",
          "name": "stdout",
          "text": [
            "even numbers [20, 24]\n"
          ]
        }
      ]
    },
    {
      "cell_type": "code",
      "source": [
        "city = [\"tkg\",\"delhi\",\"kota\"]\n",
        "def length (city):\n",
        "  return len(city)\n",
        "sort = sorted(city,key=length)\n",
        "print(\"sorted words\",sort)"
      ],
      "metadata": {
        "colab": {
          "base_uri": "https://localhost:8080/"
        },
        "id": "2d6q4TOcY0x9",
        "outputId": "335846fc-d872-4332-dee5-de92f6419180"
      },
      "execution_count": null,
      "outputs": [
        {
          "output_type": "stream",
          "name": "stdout",
          "text": [
            "sorted words ['tkg', 'kota', 'delhi']\n"
          ]
        }
      ]
    },
    {
      "cell_type": "code",
      "source": [
        "city2= [\"tkg\",\"delhi\",\"kota\"]\n",
        "sort2=sorted(city2,key=lambda x:len(x))\n",
        "print(sort)"
      ],
      "metadata": {
        "colab": {
          "base_uri": "https://localhost:8080/"
        },
        "id": "mAjczkhSZ8wy",
        "outputId": "e983865f-728b-4c3b-97a2-9986a38ca878"
      },
      "execution_count": null,
      "outputs": [
        {
          "output_type": "stream",
          "name": "stdout",
          "text": [
            "['tkg', 'kota', 'delhi']\n"
          ]
        }
      ]
    }
  ]
}